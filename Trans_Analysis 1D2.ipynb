{
 "cells": [
  {
   "attachments": {},
   "cell_type": "markdown",
   "metadata": {},
   "source": [
    "\n",
    "### Spectroscopic Data Analysis  \n",
    "\n",
    "        Sean Keenan, PhD Physics  \n",
    "        Quantum Memories Group, Heriot-Watt University, Edinburgh  \n",
    "        2021  "
   ]
  },
  {
   "cell_type": "code",
   "execution_count": null,
   "metadata": {},
   "outputs": [],
   "source": [
    "%matplotlib widget\n",
    "import data_funcs as df\n",
    "from filter_funcs import smooth_data\n",
    "from fit_funcs import peak_find\n",
    "from math_funcs import bin_data, ODset_calc\n",
    "import matplotlib.pyplot as mp\n",
    "import numpy as np\n",
    "import plotting_funcs as plt\n",
    "import os\n",
    "\n",
    "mp.style.use('signature.mplstyle')"
   ]
  },
  {
   "attachments": {},
   "cell_type": "markdown",
   "metadata": {},
   "source": [
    "\n",
    "##### Set-up script  \n",
    "\n",
    "        Select input folder and polarisation  "
   ]
  },
  {
   "cell_type": "code",
   "execution_count": null,
   "metadata": {},
   "outputs": [],
   "source": [
    "# folder containing all the requisite subfolders and data - refrences included\n",
    "local = False\n",
    "folder = r\"0222_BB\"\n",
    "if local == True:\n",
    "    path = os.path.join(r\"C:\\Users\\sk88\\Desktop\", folder)\n",
    "else:\n",
    "    path = os.path.join(r\"C:\\Users\\sk88\\Dropbox (Heriot-Watt University Team)\\RES_EPS_Quantum_Photonics_Lab\\Experiments\\Current Experiments\\BB Telecom QM\\2023_Pr_YVO_Sectroscopy\\Visible\\0.5%\", folder)\n",
    "# mark energies / wavelengths of interest\n",
    "roi = (17500, 16000)\n",
    "vis_forbid = ([16255, 17220], '--','red')\n",
    "vis_sigma = ([16528], '-.', 'cyan')\n",
    "vis_pi = ([16796], ':', 'olive')\n",
    "vis = [vis_forbid, vis_sigma, vis_pi]\n",
    "\n",
    "hotlines_sigma = ([16174, 16378, 16472, 16704, 16852], (0, (5, 10)), 'blue')\n",
    "hotlines_pi = ([16444, 17163, 17140, 17034, 16606], (0, (3, 10, 1, 10)), 'green')\n",
    "hotlines = [hotlines_pi, hotlines_sigma]\n",
    "\n",
    "vis_woi = [vis_forbid, vis_sigma, vis_pi, hotlines_pi, hotlines_sigma]\n",
    "# calibrate wavelength of OSA\n",
    "calibration = 1.054269203603\n",
    "# reference power correction\n",
    "correction = 345/50\n",
    "# averaging window length\n",
    "window = 50\n",
    "# reference names\n",
    "refs = [\"ref\", \"reference\", \"R\"]\n",
    "# file extension types\n",
    "exts = ('.csv', '.txt', '.CSV')\n",
    "exceptions = [\"notes\", \"setup\", \"ignore\", \"Thermal OD\"]\n",
    "labels = 'wavenumber (cm${^{-1}}$)', 'OD'"
   ]
  },
  {
   "attachments": {},
   "cell_type": "markdown",
   "metadata": {},
   "source": [
    "\n",
    "##### Import Raw Spectroscopy Data\n",
    "        Load raw data from csv file and sort into groups - polarisations -> reference / spectrum\n"
   ]
  },
  {
   "cell_type": "code",
   "execution_count": null,
   "metadata": {},
   "outputs": [],
   "source": [
    "# interogate directory to extract folder and file names\n",
    "folder_list, file_list = df.dir_interogate(path, exts, exceptions)\n",
    "# assemble reference paths\n",
    "reference_paths = df.search_paths(folder_list, file_list, include=refs)\n",
    "ref_paths_list = [os.path.join(path, x) for ref_lists in reference_paths for x in ref_lists]\n",
    "# find polarisation numbers from reference file names\n",
    "polarisations = [df.find_numbers(path, '\\d+') for path in reference_paths[0]]\n",
    "# assemble spectra paths\n",
    "spectra_paths = df.search_paths(folder_list, file_list, include=polarisations, exclude=refs)\n",
    "spectra_paths_list = [os.path.join(path, x) for spectra_lists in spectra_paths for x in spectra_lists]\n",
    "# extract raw data values, seperate metadata from data and split into wavelengths and intensities\n",
    "ref_metadata, ref_data = df.spectrum_extract(ref_paths_list, keys=polarisations)\n",
    "spectra_metadata, spectra_data = df.spectrum_extract(spectra_paths_list, keys=polarisations)\n",
    "spectra_waves, spectra_intensities = df.seperate_lists(spectra_data)\n",
    "reference_waves, reference_intensities = df.seperate_lists(ref_data)"
   ]
  },
  {
   "attachments": {},
   "cell_type": "markdown",
   "metadata": {},
   "source": [
    "\n",
    "##### Main calculations\n",
    "\n",
    "        Calculate OD and zero shift data\n",
    "        Correct for calibration of wavemeter"
   ]
  },
  {
   "cell_type": "code",
   "execution_count": null,
   "metadata": {},
   "outputs": [],
   "source": [
    "# calculate OD and correct for power variance\n",
    "OD_sets = ODset_calc(reference_sets=reference_intensities, transmitted_sets=spectra_intensities, c_factor=correction)\n",
    "# subtract mean value to compensate for background\n",
    "zeroed_OD = [[values - bin_data(values, 100) for values in spectra] for spectra in OD_sets]\n",
    "# create subtracted set (minus lowest temp data)\n",
    "subtracted_OD = [[values - spectra[0] for values in spectra] for spectra in zeroed_OD]\n",
    "# create smoothed sets using boxcar\n",
    "smoothed = [[smooth_data(values, N=window) for values in spectra] for spectra in zeroed_OD]\n",
    "# calibrate for OSA and convert wavelengths to wavenumbers \n",
    "shifted_waves = [[values + calibration for values in wavelengths] for wavelengths in spectra_waves]\n",
    "wavevector_sets = [[1E7 / values for values in wavelengths] for wavelengths in shifted_waves]\n"
   ]
  },
  {
   "attachments": {},
   "cell_type": "markdown",
   "metadata": {},
   "source": [
    "\n",
    "##### Find Peaks and Energies\n",
    "\n",
    "        Calculate frequencies, wavenumbers and wavelengths of peaks"
   ]
  },
  {
   "cell_type": "code",
   "execution_count": null,
   "metadata": {},
   "outputs": [],
   "source": [
    "prom = 0.05\n",
    "top = 0.01\n",
    "peaks = [[peak_find(values, waves, prom_tol=prom, top_tol=top, lims=roi) for values, waves in zip(intensities, wavenumbers)] for intensities, wavenumbers in zip(zeroed_OD, wavevector_sets)]"
   ]
  },
  {
   "cell_type": "code",
   "execution_count": null,
   "metadata": {},
   "outputs": [],
   "source": [
    "plt.plot_spectra(wavevector_sets, zeroed_OD, data_indexes=peaks, keys=polarisations, shifter=0.75, lims=roi, woi=vis_woi, axis_lbls=labels, data_labels=folder_list)"
   ]
  },
  {
   "cell_type": "code",
   "execution_count": null,
   "metadata": {},
   "outputs": [],
   "source": [
    "plt.plot_spectra(wavevector_sets,subtracted_OD, keys=polarisations, shifter=0.75, lims=roi, axis_lbls=labels, woi=vis_woi, data_labels=folder_list)"
   ]
  },
  {
   "cell_type": "code",
   "execution_count": null,
   "metadata": {},
   "outputs": [],
   "source": []
  },
  {
   "cell_type": "code",
   "execution_count": null,
   "metadata": {},
   "outputs": [],
   "source": [
    "shifter = 1\n",
    "shift= 0\n",
    "colour = mp.cm.winter(np.linspace(0, 1, len(wave_ground)))\n",
    "fig, ax = mp.subplots()\n",
    "for n, wave in enumerate(wave_ground):\n",
    "    lower, upper = sf.zoom(wave, bounds=(7050, 6550))\n",
    "    x = np.array(wave)\n",
    "    y = np.array([value + shift for value in od_ground[n]])\n",
    "    ax.plot(x[lower:upper], y[lower:upper], color = colour[n], label= 'HWP ' + polarisations[n] + ' $^{\\circ}$')\n",
    "    ax.set_xlabel('Wavenumber (cm$^{-1}$)')\n",
    "    ax.set_ylabel('OD')\n",
    "    ax.legend(loc='upper right')\n",
    "    shift += shifter"
   ]
  },
  {
   "cell_type": "code",
   "execution_count": null,
   "metadata": {},
   "outputs": [],
   "source": [
    "sigma_indexes = [0, 2, 6, 14]\n",
    "pi_indexes = [0, 2, 6, 14]\n",
    "\n",
    "shifter = 1\n",
    "shift= 0\n",
    "colour = mp.cm.winter(np.linspace(0, 1, len(sigma_indexes)))\n",
    "fig_1, ax_1 = mp.subplots()\n",
    "for index, n in enumerate(sigma_indexes):\n",
    "    lower, upper = sf.zoom(wavenumber_sets[0][n], bounds=(7100, 6500))\n",
    "    x = np.array(wavenumber_sets[0][n])\n",
    "    y = np.array([value + shift for value in od_corrected[0][n]])\n",
    "    ax_1.plot(x[lower:upper], y[lower:upper], color=colour[index], label=folder_list[n])\n",
    "    ax_1.set_title('$\\sigma$ polarised')\n",
    "    ax_1.set_xlabel('Wavenumber (cm$^{-1}$)')\n",
    "    ax_1.set_ylabel('OD')\n",
    "    ax_1.legend()\n",
    "    shift += shifter\n",
    "\n",
    "shifter = 1\n",
    "shift= 0\n",
    "colour = mp.cm.winter(np.linspace(0, 1, len(pi_indexes)))\n",
    "fig_2, ax_2 = mp.subplots()\n",
    "for index, n in enumerate(pi_indexes):\n",
    "    lower, upper = sf.zoom(wavenumber_sets[0][0], bounds=(7100, 6450))\n",
    "    x = np.array(wavenumber_sets[-1][0])\n",
    "    y = np.array([value + shift for value in od_corrected[-1][n]])\n",
    "    ax_2.plot(x[lower:upper], y[lower:upper], color = colour[index], label=os.path.split(folder_list[n])[1])\n",
    "    ax_2.set_title('$\\pi$ polarised')\n",
    "    ax_2.set_xlabel('Wavenumber (cm$^{-1}$)')\n",
    "    ax_2.set_ylabel('OD')\n",
    "    ax_2.legend()\n",
    "    shift += shifter"
   ]
  },
  {
   "cell_type": "code",
   "execution_count": null,
   "metadata": {},
   "outputs": [],
   "source": [
    "from scipy.signal import find_peaks, argrelmax, argrelmin\n",
    "\n",
    "low, high = sf.zoom(shifted_sets[0][2], (603, 610))\n",
    "test_x = np.array(shifted_sets[0][2])\n",
    "test_y = np.array(od_subtracted[0][2])\n",
    "grad_y = np.gradient(test_y)\n",
    "grad_2y = np.gradient(grad_y)\n",
    "a = argrelmax(test_y)\n",
    "b = a[0].tolist()\n",
    "c = [x for x in b if x >= low and x <= high]\n",
    "fig, ax = mp.subplots()\n",
    "ax.plot(test_x[low:high], test_y[low:high], 'r')\n",
    "ax.plot(test_x[c], test_y[c], 'xr')\n",
    "ax.plot(test_x[low:high], grad_y[low:high], '--b')\n",
    "ax.plot(test_x[c], grad_y[c], 'xb')\n",
    "ax.plot(test_x[low:high], grad_2y[low:high], '--g')\n",
    "ax.plot(test_x[c], grad_2y[c], 'xg')\n",
    "\n",
    "#fit, err = ff.fitNguass()"
   ]
  },
  {
   "cell_type": "code",
   "execution_count": null,
   "metadata": {},
   "outputs": [],
   "source": [
    "low_128, high_128 = sf.zoom(shifted_sets[0][0], bounds=(605, 620))\n",
    "low_173, high_173 = sf.zoom(shifted_sets[0][0], bounds=(596, 610))\n",
    "peak_sub_128 = [[sf.find_OD(y_values=od, peaks=peaks, lims=(low_128, high_128)) for od, peaks in zip(od_set, peak_set)] for od_set, peak_set in zip(od_subtracted, sub_peaks)]\n",
    "peak_sub_173 = [[sf.find_OD(y_values=od, peaks=peaks, lims=(low_173, high_173)) for od, peaks in zip(od_set, peak_set)] for od_set, peak_set in zip(od_subtracted, sub_peaks)]"
   ]
  },
  {
   "cell_type": "code",
   "execution_count": null,
   "metadata": {},
   "outputs": [],
   "source": [
    "low_128, high_128 = sf.zoom(shifted_sets[0][0], bounds=(603, 607))\n",
    "low_173, high_173 = sf.zoom(shifted_sets[0][0], bounds=(594, 597))\n",
    "peak_cor_128 = [[sf.find_OD(y_values=od, peaks=peaks, lims=(low_128, high_128)) for od, peaks in zip(od_set, peak_set)] for od_set, peak_set in zip(od_corrected, corrected_peaks)]\n",
    "peak_cor_173 = [[sf.find_OD(y_values=od, peaks=peaks, lims=(low_173, high_173)) for od, peaks in zip(od_set, peak_set)] for od_set, peak_set in zip(od_corrected, corrected_peaks)]"
   ]
  },
  {
   "cell_type": "code",
   "execution_count": null,
   "metadata": {},
   "outputs": [],
   "source": [
    "peak_0 = [value for values in peak_cor_128[0] for value in values]\n",
    "od_frequencies123 = sf.peak_freq(corrected_peaks, shifted_sets, lims=[603,607])\n",
    "freq_0 = [frequency for frequencies in od_frequencies123[0] for frequency in frequencies]\n",
    "wavenumber_0 = [sf.converter(freq, 1, 0) for freq in freq_0]\n",
    "print(wavenumber_0)\n",
    "\n",
    "temp_0 = [3.2, 10, 20, 30, 40, 60, 80, 100, 120, 140, 160, 180, 200, 220, 240, 260, 280]\n",
    "fig_1, ax_1 = mp.subplots()\n",
    "ax_1.set_title('$\\sigma$ polarisation at 16529.87 - 16520.30 cm$^{-1}$')\n",
    "ax_1.set(xlabel='Temperature', ylabel='OD')\n",
    "ax_1.plot(temp_0, peak_0, 'x')"
   ]
  },
  {
   "cell_type": "code",
   "execution_count": null,
   "metadata": {},
   "outputs": [],
   "source": [
    "peak_2 = [peak_sub_128[0][i][0] for i in range(len(peak_sub_128[0])) if i != 0]\n",
    "sub_frequencies = sf.peak_freq(sub_peaks, shifted_sets, lims=[607,620])\n",
    "freq_2 = [sub_frequencies[0][i][0] for i in range(len(sub_frequencies[0])) if i != 0]\n",
    "wavenumber_2 = [sf.converter(freq, d_type=1, c_type=0) for freq in freq_2]\n",
    "print(wavenumber_2)\n",
    "\n",
    "temp_2 = [60, 80, 100, 120, 140, 160, 180, 200, 220, 240, 260, 280]\n",
    "peak_2.pop(0)\n",
    "peak_2.pop(1)\n",
    "peak_2.pop(2)\n",
    "peak_2.pop(3)\n",
    "fig_1, ax_1 = mp.subplots()\n",
    "ax_1.set_title('$\\sigma$ polarisation at 16472.69 cm$^{-1}$')\n",
    "ax_1.set_xticks(temp_2)\n",
    "ax_1.set(xlabel='Temperature', ylabel='OD')\n",
    "ax_1.plot(temp_2, peak_2, 'x')"
   ]
  },
  {
   "cell_type": "code",
   "execution_count": null,
   "metadata": {},
   "outputs": [],
   "source": [
    "peak_3 = [peak_sub_128[0][i][-2] for i in range(len(peak_sub_128[0])) if i != 0]\n",
    "sub_frequencies = sf.peak_freq(sub_peaks,shifted_sets, lims=[605,620])\n",
    "freq_3 = [sub_frequencies[0][i][-2] for i in range(len(sub_frequencies[0])) if i != 0]\n",
    "wavenumber_3 = [sf.converter(freq, d_type=1, c_type=0) for freq in freq_3]\n",
    "print(wavenumber_3)\n",
    "temp_3 = [10, 20, 30, 40, 140, 160, 180, 200, 220, 240, 260, 280]\n",
    "peak_3.pop(0)\n",
    "peak_3.pop(4)\n",
    "peak_3.pop(5)\n",
    "peak_3.pop(6)\n",
    "peak_3.pop(7)\n",
    "peak_3.insert(0, peak_sub_128[0][1][-3])\n",
    "fig_2, ax_2 = mp.subplots()\n",
    "ax_2.set_title('$\\sigma$ polarisation at 16378.12 cm$^{-1}$')\n",
    "ax_2.set(xlabel='Temperature', ylabel='OD')\n",
    "ax_2.set_xticks(temp_3)\n",
    "ax_2.plot(temp_3, peak_3, 'x')"
   ]
  },
  {
   "cell_type": "code",
   "execution_count": null,
   "metadata": {},
   "outputs": [],
   "source": [
    "peak_4 = [peak_sub_128[0][i][-1] for i in range(len(peak_sub_128[0])) if i != 0]\n",
    "sub_frequencies = sf.peak_freq(sub_peaks, shifted_sets, lims=[605,620])\n",
    "freq_4 = [sub_frequencies[0][i][-1] for i in range(len(sub_frequencies[0])) if i != 0]\n",
    "wavenumber_4 = [sf.converter(freq, d_type=1, c_type=0) for freq in freq_4]\n",
    "print(wavenumber_4)\n",
    "temp_4 = [10, 20, 30, 40, 60, 80, 100, 120, 140, 160, 180, 200, 220, 240, 260, 280]\n",
    "fig_3, ax_3 = mp.subplots()\n",
    "ax_3.set_title('$\\sigma$ polarisation at 16174.57 cm$^{-1}$')\n",
    "ax_3.set(xlabel='Temperature', ylabel='OD')\n",
    "ax_3.set_xticks(temp_4)\n",
    "ax_3.plot(temp_4, peak_4, 'x')"
   ]
  },
  {
   "cell_type": "code",
   "execution_count": null,
   "metadata": {},
   "outputs": [],
   "source": [
    "peak173_0 = [value for values in peak_cor_173[3] for value in values]\n",
    "od_frequencies173 = sf.peak_freq(corrected_peaks, shifted_sets, lims=[590,598])\n",
    "freq173_0 = [frequency for frequencies in od_frequencies173[3] for frequency in frequencies]\n",
    "wavenumber173_0 = [sf.converter(freq, 1, 0) for freq in freq173_0]\n",
    "print(wavenumber173_0)\n",
    "\n",
    "temp173_0 = [3.2, 10, 20, 30, 40, 60, 80, 100, 120, 140, 160, 180, 200, 220, 240]\n",
    "fig_0, ax_0 = mp.subplots()\n",
    "ax_0.set_title('$\\pi$ polarisation at 16812.82 - 16773.16 cm$^{-1}$')\n",
    "ax_0.set(xlabel='Temperature', ylabel='OD')\n",
    "ax_0.plot(temp173_0, peak173_0, 'xr')"
   ]
  },
  {
   "cell_type": "code",
   "execution_count": null,
   "metadata": {},
   "outputs": [],
   "source": [
    "peak173_2 = [peak_sub_173[3][i][0] for i in range(len(peak_sub_173[0])) if i != 0]\n",
    "sub_frequencies = sf.peak_freq(sub_peaks, shifted_sets, lims=[597,610])\n",
    "freq173_2 = [sub_frequencies[3][i][0] for i in range(len(sub_frequencies[3])) if i != 0]\n",
    "wavenumber173_2 = [sf.converter(freq, d_type=1, c_type=0) for freq in freq173_2]\n",
    "print(wavenumber173_2)\n",
    "peak173_2.pop(0)\n",
    "peak173_2.pop(1)\n",
    "temp173_2 = [30, 40, 60, 80, 100, 120, 140, 160, 180, 200, 220, 240, 260, 280]\n",
    "\n",
    "fig_4, ax_4 = mp.subplots()\n",
    "ax_4.set_title('$\\pi$ polarisation at 16704.25 cm$^{-1}$')\n",
    "ax_4.set(xlabel='Temperature', ylabel='OD')\n",
    "ax_4.set_xticks(temp173_2)\n",
    "ax_4.plot(temp173_2, peak173_2, 'xr')\n"
   ]
  },
  {
   "cell_type": "code",
   "execution_count": null,
   "metadata": {},
   "outputs": [],
   "source": [
    "peak173_3 = [peak_sub_173[3][i][1] for i in range(len(peak_sub_173[0])) if i != 0]\n",
    "sub_frequencies = sf.peak_freq(sub_peaks, shifted_sets, lims=[597,610])\n",
    "freq173_3 = [sub_frequencies[3][i][1] for i in range(len(sub_frequencies[3])) if i != 0]\n",
    "wavenumber173_3 = [sf.converter(freq, d_type=1, c_type=0) for freq in freq173_3]\n",
    "print(wavenumber173_3)\n",
    "peak173_3.pop(0)\n",
    "peak173_3.pop(1)\n",
    "peak173_3.pop(2)\n",
    "peak173_3.pop(3)\n",
    "temp173_3 = [60, 80, 100, 120, 140, 160, 180, 200, 220, 240, 260, 280]\n",
    "\n",
    "fig_5, ax_5 = mp.subplots()\n",
    "ax_5.set_title('$\\pi$ polarisation at 16606.87 cm$^{-1}$')\n",
    "ax_5.set(xlabel='Temperature', ylabel='OD')\n",
    "ax_5.set_xticks(temp173_3)\n",
    "ax_5.plot(temp173_3, peak173_3, 'xr')"
   ]
  },
  {
   "cell_type": "code",
   "execution_count": null,
   "metadata": {},
   "outputs": [],
   "source": [
    "peak173_4 = [peak_sub_173[3][i][-1] for i in range(len(peak_sub_173[0])) if i != 0]\n",
    "sub_frequencies = sf.peak_freq(sub_peaks, shifted_sets, lims=[597,610])\n",
    "freq173_4 = [sub_frequencies[3][i][-1] for i in range(len(sub_frequencies[0])) if i != 0]\n",
    "wavenumber173_4 = [sf.converter(freq, d_type=1, c_type=0) for freq in freq173_4]\n",
    "print(wavenumber173_3)\n",
    "peak173_4.pop(0)\n",
    "\n",
    "temp173_4 = [20, 30, 40, 60, 80, 100, 120, 140, 160, 180, 200, 220, 240, 260, 280]\n",
    "\n",
    "fig_6, ax_6 = mp.subplots()\n",
    "ax_6.set_title('$\\pi$ polarisation at 16444.17 cm$^{-1}$')\n",
    "ax_6.set(xlabel='Temperature', ylabel='OD')\n",
    "ax_6.set_xticks(temp173_4)\n",
    "ax_6.plot(temp173_4, peak173_4, 'xr')"
   ]
  },
  {
   "attachments": {},
   "cell_type": "markdown",
   "metadata": {},
   "source": [
    "3P0 "
   ]
  },
  {
   "cell_type": "code",
   "execution_count": null,
   "metadata": {},
   "outputs": [],
   "source": [
    "import matplotlib.pyplot as mp\n",
    "temp = [3.2, 10, 20, 30, 40, 50, 60, 80, 100, 120, 140, 160, 180, 200, 220, 240, 260, 280]\n",
    "count = -1\n",
    "\n",
    "fig_1, ax_1 = mp.subplots()\n",
    "fig_2, ax_2 = mp.subplots()\n",
    "fig_3, ax_3 = mp.subplots()\n",
    "\n",
    "ax_1.set(xlabel='Temperature', ylabel='OD')\n",
    "ax_2.set(xlabel='Temperature', ylabel='OD')\n",
    "ax_3.set(xlabel='Temperature', ylabel='OD')\n",
    "\n",
    "for index_1, OD_list in enumerate(peak_sub_128[0]):\n",
    "    for index_2, value in enumerate(OD_list):\n",
    "        if index_2 == 0:\n",
    "            ax_1.plot(temp[index_1], value, 'xb')\n",
    "        if index_1 > 9 and index_2 == 1:\n",
    "            ax_2.plot(temp[index_1], value, 'xr')\n",
    "        if index_2 == 2 or index_1 < 10 and index_2 == 2:\n",
    "            ax_3.plot(temp[index_1], value, 'xg')\n"
   ]
  },
  {
   "cell_type": "code",
   "execution_count": null,
   "metadata": {},
   "outputs": [],
   "source": [
    "import matplotlib.pyplot as mp\n",
    "temp = [3.2, 10, 20, 30, 40, 50, 60, 80, 100, 120, 140, 160, 180, 200, 220, 240, 260, 280]\n",
    "\n",
    "fig_1, ax_1 = mp.subplots()\n",
    "fig_2, ax_2 = mp.subplots()\n",
    "fig_3, ax_3 = mp.subplots()\n",
    "\n",
    "ax_1.set(xlabel='Temperature', ylabel='OD')\n",
    "ax_2.set(xlabel='Temperature', ylabel='OD')\n",
    "ax_3.set(xlabel='Temperature', ylabel='OD')\n",
    "\n",
    "for index_1, OD_list in enumerate(peak_OD_173[3]):\n",
    "    for index_2, value in enumerate(OD_list):\n",
    "        if index_2 == 0:\n",
    "            ax_1.plot(temp[index_1], value, 'xb')\n",
    "        if index_2 == 1:\n",
    "            ax_2.plot(temp[index_1], value, 'xr')\n",
    "        if index_2 == 2:\n",
    "            ax_3.plot(temp[index_1], value, 'xg')\n"
   ]
  },
  {
   "cell_type": "code",
   "execution_count": null,
   "metadata": {},
   "outputs": [],
   "source": [
    "import fit_funcs as ff\n",
    "import numpy as np\n",
    "import matplotlib.pyplot as mp\n",
    "from scipy.optimize import leastsq\n",
    "\n",
    "x = np.linspace(0, 100, 100)\n",
    "param_1 = [1, 5, 80, 8]\n",
    "param_2 = [1, 0, 20, 5]\n",
    "param_3 = [1, -2, 60, 5]\n",
    "param_4 = [2, 0, 30, 10]\n",
    "\n",
    "fit_param_1 = [1, 5, 70, 20]\n",
    "fit_param_2 = [1, 0, 20, 20]\n",
    "fit_param_3 = [1, -2, 60, 10]\n",
    "fit_param_4 = [1, 0, 20, 20]\n",
    "param = param_1 + param_2 + param_3 + param_4\n",
    "fit_param = fit_param_1 + fit_param_2 + fit_param_3 + fit_param_4\n",
    "y = ff.N_gaussian(x, *param)\n",
    "\n",
    "fit, err = ff.fitNgauss(x, y, params=fit_param)\n",
    "\n",
    "mp.plot(x, y)\n",
    "mp.plot(x, ff.N_gaussian(x, *fit), 'x')\n",
    "mp.show()"
   ]
  }
 ],
 "metadata": {
  "kernelspec": {
   "display_name": ".spect_venv",
   "language": "python",
   "name": "python3"
  },
  "language_info": {
   "codemirror_mode": {
    "name": "ipython",
    "version": 3
   },
   "file_extension": ".py",
   "mimetype": "text/x-python",
   "name": "python",
   "nbconvert_exporter": "python",
   "pygments_lexer": "ipython3",
   "version": "3.11.2"
  },
  "orig_nbformat": 4,
  "vscode": {
   "interpreter": {
    "hash": "591e98aa5fd0eb4730f19f661e8a5c2fdbba266681562ca5e4ef59abda230351"
   }
  }
 },
 "nbformat": 4,
 "nbformat_minor": 2
}
