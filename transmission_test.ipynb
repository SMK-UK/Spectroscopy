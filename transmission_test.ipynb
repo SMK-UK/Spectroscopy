{
 "cells": [
  {
   "cell_type": "markdown",
   "metadata": {},
   "source": [
    "### Spectroscopic Data Analysis\n",
    "        Sean Keenan, PhD Physics\n",
    "        Quantum Memories Group, Heriot-Watt University, Edinburgh\n",
    "        2021"
   ]
  },
  {
   "cell_type": "code",
   "execution_count": 1,
   "metadata": {},
   "outputs": [],
   "source": [
    "import spec_funcs as sf\n",
    "import fit_funcs as ff"
   ]
  },
  {
   "cell_type": "markdown",
   "metadata": {},
   "source": [
    "##### Set-up script\n",
    "        Select input folder and polarisation"
   ]
  },
  {
   "cell_type": "code",
   "execution_count": 2,
   "metadata": {},
   "outputs": [],
   "source": [
    "# folder containing all the requisite subfolders and data - refrences included\n",
    "path = r\"C:\\Users\\sk88\\Desktop\\0222_BB\"\n",
    "# mark energies / wavelengths of interest\n",
    "woi = [595.27, 604.23, 605.40]\n",
    "# calibrate wavelength of OSA\n",
    "calibration = 1.054269\n",
    "# reference names\n",
    "refs = \"ref\", \"reference\", \"R\"\n",
    "# file extension types\n",
    "exts = (\".csv\", \".txt\", \".CSV\")\n",
    "exceptions = (\"notes\", \"setup\", \"ignore\")"
   ]
  },
  {
   "cell_type": "markdown",
   "metadata": {},
   "source": [
    "##### Import Raw Spectroscopy Data\n",
    "        Load raw data from csv file (delimiter is not a problem) and sort into groups - polarisations -> reference / spectrum\n"
   ]
  },
  {
   "cell_type": "code",
   "execution_count": 3,
   "metadata": {},
   "outputs": [
    {
     "ename": "IndexError",
     "evalue": "list index out of range",
     "output_type": "error",
     "traceback": [
      "\u001b[1;31m---------------------------------------------------------------------------\u001b[0m",
      "\u001b[1;31mIndexError\u001b[0m                                Traceback (most recent call last)",
      "Cell \u001b[1;32mIn[3], line 5\u001b[0m\n\u001b[0;32m      3\u001b[0m ref_names, data_names \u001b[39m=\u001b[39m sf\u001b[39m.\u001b[39msearch_paths(path_names, refs)\n\u001b[0;32m      4\u001b[0m polarisations \u001b[39m=\u001b[39m sf\u001b[39m.\u001b[39mfind_numbers(ref_names, tail\u001b[39m=\u001b[39m\u001b[39m1\u001b[39m)\n\u001b[1;32m----> 5\u001b[0m ref_data, ref_metadata \u001b[39m=\u001b[39m sf\u001b[39m.\u001b[39;49mdata_extract(ref_names, polarisations)\n\u001b[0;32m      6\u001b[0m data_sets, metadata_sets \u001b[39m=\u001b[39m sf\u001b[39m.\u001b[39mdata_extract(data_names, polarisations)\n\u001b[0;32m      7\u001b[0m wave_sets, OD_sets \u001b[39m=\u001b[39m sf\u001b[39m.\u001b[39mOD_calc(ref_data, data_sets, correction\u001b[39m=\u001b[39m\u001b[39mTrue\u001b[39;00m, c_factor\u001b[39m=\u001b[39m\u001b[39m1\u001b[39m)\n",
      "File \u001b[1;32mc:\\Users\\sk88\\Documents\\Python\\Spectroscopy\\spec_funcs.py:104\u001b[0m, in \u001b[0;36mdata_extract\u001b[1;34m(paths, keys, tail, include)\u001b[0m\n\u001b[0;32m    101\u001b[0m \u001b[39mif\u001b[39;00m include \u001b[39m==\u001b[39m \u001b[39mTrue\u001b[39;00m:\n\u001b[0;32m    102\u001b[0m     \u001b[39m# extract data from path if it contains the key\u001b[39;00m\n\u001b[0;32m    103\u001b[0m     \u001b[39mif\u001b[39;00m key \u001b[39min\u001b[39;00m os\u001b[39m.\u001b[39mpath\u001b[39m.\u001b[39msplit(path)[tail]:\n\u001b[1;32m--> 104\u001b[0m         extracted_data_children\u001b[39m.\u001b[39mappend(open_data(path)[\u001b[39m0\u001b[39m])\n\u001b[0;32m    105\u001b[0m         extracted_metadata_children\u001b[39m.\u001b[39mappend(open_data(path)[\u001b[39m1\u001b[39m])\n\u001b[0;32m    106\u001b[0m     \u001b[39melse\u001b[39;00m:\n",
      "File \u001b[1;32mc:\\Users\\sk88\\Documents\\Python\\Spectroscopy\\spec_funcs.py:296\u001b[0m, in \u001b[0;36mopen_data\u001b[1;34m(path)\u001b[0m\n\u001b[0;32m    294\u001b[0m     data_list \u001b[39m=\u001b[39m [[] \u001b[39mfor\u001b[39;00m _ \u001b[39min\u001b[39;00m \u001b[39mrange\u001b[39m(\u001b[39mlen\u001b[39m(data_temp)) \u001b[39mif\u001b[39;00m data_list \u001b[39m==\u001b[39m \u001b[39m0\u001b[39m]\n\u001b[0;32m    295\u001b[0m     \u001b[39mfor\u001b[39;00m index, data \u001b[39min\u001b[39;00m \u001b[39menumerate\u001b[39m(data_temp):\n\u001b[1;32m--> 296\u001b[0m         data_list[index]\u001b[39m.\u001b[39mappend((\u001b[39mfloat\u001b[39m(data)))\n\u001b[0;32m    297\u001b[0m \u001b[39melse\u001b[39;00m:\n\u001b[0;32m    298\u001b[0m     \u001b[39m# extract metadata\u001b[39;00m\n\u001b[0;32m    299\u001b[0m     metadata_temp \u001b[39m=\u001b[39m [i \u001b[39mfor\u001b[39;00m i \u001b[39min\u001b[39;00m re\u001b[39m.\u001b[39msplit(\u001b[39mr\u001b[39m\u001b[39m\"\u001b[39m\u001b[39m[\u001b[39m\u001b[39m\\\u001b[39m\u001b[39mt|,|;]\u001b[39m\u001b[39m\"\u001b[39m, row) \u001b[39mif\u001b[39;00m i \u001b[39m!=\u001b[39m \u001b[39m'\u001b[39m\u001b[39m'\u001b[39m]\n",
      "\u001b[1;31mIndexError\u001b[0m: list index out of range"
     ]
    }
   ],
   "source": [
    "folder_list, file_list = sf.dir_interogate(path, exts, exceptions)\n",
    "path_names = sf.read_files(folder_list, file_list)\n",
    "ref_names, data_names = sf.search_paths(path_names, refs)\n",
    "polarisations = sf.find_numbers(ref_names, tail=1)\n",
    "ref_data, ref_metadata = sf.data_extract(ref_names, polarisations)\n",
    "data_sets, metadata_sets = sf.data_extract(data_names, polarisations)\n",
    "wave_sets, OD_sets = sf.OD_calc(ref_data, data_sets, correction=True, c_factor=1)\n",
    "shifted_sets = sf.data_shift(wave_sets, calibration)\n",
    "labels = 'wavelength (nm)', 'OD'\n",
    "sf.plotter(shifted_sets, OD_sets, keys=polarisations, axis_lbls=labels, lims=[560, 620], shifter=1, woi=woi, save=True, data_labels=folder_list)"
   ]
  },
  {
   "cell_type": "code",
   "execution_count": null,
   "metadata": {},
   "outputs": [],
   "source": [
    "OD_smoothed = sf.smooth_data(OD_sets, 0.2)\n",
    "sf.plotter(shifted_sets, OD_smoothed, keys=polarisations, axis_lbls=labels, lims=[550, 620], shifter=1, woi=woi, save=False, data_labels=folder_list)"
   ]
  },
  {
   "cell_type": "code",
   "execution_count": null,
   "metadata": {},
   "outputs": [],
   "source": [
    "peaks = sf.peak_find(OD_smoothed, tolerance=0.05)\n",
    "sf.plotter(x_data=wave_sets, y_data=OD_smoothed, data_indexes=peaks, keys=polarisations, axis_lbls=labels, shifter=1, lims=[570, 620], data_labels=folder_list)"
   ]
  },
  {
   "cell_type": "code",
   "execution_count": null,
   "metadata": {},
   "outputs": [],
   "source": [
    "diff = np.diff(roi_ODs[4][0], n=1)\n",
    "diff_2 = np.diff(roi_ODs[4][0], n=2)\n",
    "diff_3 = np.diff(roi_ODs[4][0], n=3)\n",
    "\n",
    "mp.plot(diff)\n",
    "#mp.plot(diff_2)\n",
    "#mp.plot(diff_3)\n",
    "mp.plot(roi_ODs[4][0])"
   ]
  },
  {
   "cell_type": "code",
   "execution_count": null,
   "metadata": {},
   "outputs": [],
   "source": [
    "x =np.linspace(-100, 100, 10000)\n",
    "amp_g = 40\n",
    "amp_l = 20\n",
    "y_0 = 0\n",
    "x_0g = 1\n",
    "x_0l = -1\n",
    "sigma = 15\n",
    "gamma = 40\n",
    "eta = 0.8\n",
    "\n",
    "gauss = sf.gaussian(x, amp_g, y_0, x_0g, sigma)\n",
    "lorentz = sf.lorentzian(x, amp_l, y_0, x_0l, gamma)\n",
    "noise = np.random.normal(size=np.size(gauss))\n",
    "\n",
    "voigt = sf.pseudo_voigt(x, y_0, amp_g, x_0g, sigma, amp_l, x_0l, gamma, eta) + noise\n",
    "\n",
    "mp.plot(x, gauss, 'r', label='gauss')\n",
    "mp.plot(x, lorentz, 'b', label='lorentz')\n",
    "mp.plot(x, voigt, 'orange', alpha=0.5, label='voigt')\n",
    "mp.legend()"
   ]
  },
  {
   "cell_type": "code",
   "execution_count": null,
   "metadata": {},
   "outputs": [],
   "source": [
    "fit_g = sf.fitgauss(x, voigt)\n",
    "fit_l = sf.fitlorentz(x, voigt)\n",
    "fit_v = sf.fitgls(x, voigt)\n",
    "\n",
    "mp.plot(x, sf.lorentzian(x, *fit_l[0]), '--b', label='lorentz fit')\n",
    "mp.plot(x, sf.gaussian(x, *fit_g[0]), '--g', label='gauss fit')\n",
    "mp.plot(x, sf.pseudo_voigt(x, *fit_v[0]), '--r', label='voigt fit')\n",
    "mp.plot(x, voigt, color='orange', alpha=0.5, label='noisey voigt')\n",
    "mp.legend()"
   ]
  }
 ],
 "metadata": {
  "kernelspec": {
   "display_name": ".spect_venv",
   "language": "python",
   "name": "python3"
  },
  "language_info": {
   "codemirror_mode": {
    "name": "ipython",
    "version": 3
   },
   "file_extension": ".py",
   "mimetype": "text/x-python",
   "name": "python",
   "nbconvert_exporter": "python",
   "pygments_lexer": "ipython3",
   "version": "3.11.2"
  },
  "orig_nbformat": 4,
  "vscode": {
   "interpreter": {
    "hash": "591e98aa5fd0eb4730f19f661e8a5c2fdbba266681562ca5e4ef59abda230351"
   }
  }
 },
 "nbformat": 4,
 "nbformat_minor": 2
}
