{
 "cells": [
  {
   "cell_type": "markdown",
   "metadata": {},
   "source": [
    "### Spectroscopic Data Analysis\n",
    "        Sean Keenan, PhD Physics\n",
    "        Quantum Memories Group, Heriot-Watt University, Edinburgh\n",
    "        2021"
   ]
  },
  {
   "cell_type": "code",
   "execution_count": 17,
   "metadata": {},
   "outputs": [],
   "source": [
    "import os, re\n",
    "import numpy as np\n",
    "import numpy.ma as ma\n",
    "import matplotlib.pyplot as mp\n",
    "import scipy.interpolate as si\n",
    "import scipy.signal as ss\n",
    "import spec_funcs as sf\n",
    "from scipy.fftpack import rfft, irfft, fftfreq\n",
    "from statistics import mean"
   ]
  },
  {
   "cell_type": "markdown",
   "metadata": {},
   "source": [
    "##### Set-up script\n",
    "###### Selcet input folder and polarisation"
   ]
  },
  {
   "cell_type": "code",
   "execution_count": 18,
   "metadata": {},
   "outputs": [],
   "source": [
    "# change to gui at later date\n",
    "# polarisations as written in file names\n",
    "polarisations = [\"143\", \"188\"]\n",
    "\n",
    "# folder containing all the requisite subfolders and data - refrences included\n",
    "path = \"C:\\\\Users\\\\sk88\\\\Desktop\\\\New Folder\"\n",
    "\n",
    "# choose to focus on a particular wavelength range\n",
    "zoom = 1\n",
    "lower = 550\n",
    "upper = 650\n",
    "\n",
    "# used to convert raw data to nm (future)\n",
    "converter = 1\n",
    "\n",
    "# save images (1 for save)\n",
    "save_fig = 0\n",
    "\n",
    "# initialise lists\n",
    "file_list = []\n",
    "folder_list = []\n",
    "bg_wavelengths = []\n",
    "bg_Is = []\n",
    "wave_sets = []\n",
    "I_sets= []\n",
    "I_0 = []\n",
    "freq = []\n",
    "OD = []\n",
    "starts = []\n",
    "stops = []"
   ]
  },
  {
   "cell_type": "markdown",
   "metadata": {},
   "source": [
    "##### Import Raw Spectroscopy Data\n",
    "\n",
    "###### Load raw data from csv file (delimiter is not a problem) and sort into groups - polarisations -> reference / spectrum\n"
   ]
  },
  {
   "cell_type": "code",
   "execution_count": 19,
   "metadata": {},
   "outputs": [],
   "source": [
    "# holder removes first folder from lists so only actual data is used\n",
    "holder = 0\n",
    "# walk through directory and extract all relevant files\n",
    "for root, dirs, files in os.walk(path):\n",
    "    if holder == 1:\n",
    "        folder_list.append(root)\n",
    "        temp =[]\n",
    "        for file in files:\n",
    "            if(file.endswith((\".csv\", \".txt\"))):\n",
    "                # ignore collection data notes\n",
    "                if \"notes\" in file or \"setup\" in file:\n",
    "                    continue\n",
    "                else:\n",
    "                    temp.append(file)\n",
    "        file_list.append(temp)\n",
    "    else:\n",
    "        holder = 1\n",
    "\n",
    "'''\n",
    "filter through files and seperate transmission data into groups:\n",
    "polarisation > references > separators eg. temperature > transmission sets\n",
    "'''\n",
    "for polarisation in polarisations:\n",
    "    wavelengths = []\n",
    "    Is = []\n",
    "    for index, folder in enumerate(folder_list):\n",
    "        for file in file_list[index]:\n",
    "            dataset = os.path.join(folder, file)\n",
    "            if polarisation in dataset:\n",
    "                # check for reference data\n",
    "                # add flag if no reference!\n",
    "                if \"ref\" in dataset or \"reference\" in dataset:\n",
    "                    bg_temp_wave = []\n",
    "                    bg_temp_I = []\n",
    "                    with open(dataset, 'r', newline='') as raw_file:\n",
    "                        for row in raw_file:\n",
    "                            if sf.check_str(row) == True:\n",
    "                                temp = re.split('\\t|,|;', row)\n",
    "                                bg_temp_wave.append(float(temp[0]))\n",
    "                                bg_temp_I.append(float(temp[1]))\n",
    "                        raw_file.close()\n",
    "                    bg_wavelengths.append(bg_temp_wave)\n",
    "                    bg_Is.append(bg_temp_I)\n",
    "                else:\n",
    "                    temp_wave = []\n",
    "                    temp_I =[]\n",
    "                    with open(dataset, 'r', newline='') as raw_file:\n",
    "                        for row in raw_file:\n",
    "                            if sf.check_str(row) == True:\n",
    "                                temp = re.split('\\t|,|;', row)\n",
    "                                temp_wave.append(float(temp[0]))\n",
    "                                temp_I.append(float(temp[1]))\n",
    "                        raw_file.close()\n",
    "                    wavelengths.append(temp_wave)\n",
    "                    Is.append(temp_I)\n",
    "    wave_sets.append(wavelengths)\n",
    "    I_sets.append(Is)"
   ]
  },
  {
   "cell_type": "markdown",
   "metadata": {},
   "source": [
    "#####  Calculate OD\n",
    "\n",
    "###### Generate interplolated background data to match raw absorption data length and then calculate Optical Depth"
   ]
  },
  {
   "cell_type": "code",
   "execution_count": 20,
   "metadata": {},
   "outputs": [
    {
     "name": "stderr",
     "output_type": "stream",
     "text": [
      "c:\\Users\\sk88\\Documents\\Python\\Spectroscopy\\.spect_venv\\lib\\site-packages\\ipykernel_launcher.py:27: RuntimeWarning: divide by zero encountered in true_divide\n",
      "c:\\Users\\sk88\\Documents\\Python\\Spectroscopy\\.spect_venv\\lib\\site-packages\\ipykernel_launcher.py:27: RuntimeWarning: divide by zero encountered in log\n"
     ]
    }
   ],
   "source": [
    "'''\n",
    "interpolate reference data for each file - avoids issue of wavelength array length mismatch\n",
    "\n",
    "'''\n",
    "check_temp = []\n",
    "# cycle through polarisations\n",
    "for idx_1 in range(len(polarisations)):\n",
    "    temp_I_0 = []\n",
    "    temp_OD = []\n",
    "    I_temp = []\n",
    "    # generate spline co-effs\n",
    "    spline_coeffs = si.splrep(bg_wavelengths[idx_1], bg_Is[idx_1])\n",
    "    # calculate referenece for each wavelength subset\n",
    "    for idx_2, wavelength in enumerate(wave_sets[idx_1]):\n",
    "        spline_temp = (si.splev(wavelength, spline_coeffs))\n",
    "        I_temp = I_sets[idx_1][idx_2]\n",
    "        # scale data to remove negative values\n",
    "        if np.nanmin(spline_temp) < 0 or np.nanmin(I_temp) < 0:\n",
    "            if np.nanmin(spline_temp) < np.nanmin(I_temp):\n",
    "                adjust = np.nanmin(spline_temp)\n",
    "            elif np.nanmin(I_temp) < np.nanmin(spline_temp):\n",
    "                adjust = np.nanmin(I_temp)\n",
    "            temp_I_0.append(spline_temp - adjust)\n",
    "            I_temp -= adjust\n",
    "        else:\n",
    "            temp_I_0.append(spline_temp)\n",
    "        temp_OD.append(np.log(13*temp_I_0[idx_2]/I_temp))\n",
    "    check_temp.append(I_temp)\n",
    "    I_0.append(temp_I_0)\n",
    "    OD.append(temp_OD)\n",
    "\n",
    "# zoom function for wavelength range\n",
    "if zoom == 1:\n",
    "    for index, waves in enumerate(wave_sets):\n",
    "        start = []\n",
    "        stop = []\n",
    "        for wave in waves:\n",
    "            for idx, value in enumerate(wave):\n",
    "                if value <= lower:\n",
    "                    temp_start = idx\n",
    "                if value <= upper:\n",
    "                    temp_stop = idx\n",
    "            start.append(temp_start)\n",
    "            stop.append(temp_stop)\n",
    "        starts.append(start)\n",
    "        stops.append(stop)\n",
    "elif zoom != 1:\n",
    "    for index, waves in enumerate(wave_sets):\n",
    "        start = []\n",
    "        stop = []\n",
    "        for wave in waves:\n",
    "            start.append(0)\n",
    "            stop.append(-1)\n",
    "        starts.append(start)\n",
    "        stops.append(stop)\n",
    "\n",
    "# mask OD data to remove -inf, nan and inf from normalisation\n",
    "masked_OD = ma.masked_invalid(OD)\n",
    "# normalise the OD\n",
    "OD_norm = masked_OD / np.nanmax(masked_OD)\n"
   ]
  },
  {
   "cell_type": "markdown",
   "metadata": {},
   "source": [
    "##### Print Raw Output\n",
    "\n",
    "###### Plot individual spectroscopy data"
   ]
  },
  {
   "cell_type": "code",
   "execution_count": 21,
   "metadata": {},
   "outputs": [
    {
     "ename": "IndexError",
     "evalue": "list index out of range",
     "output_type": "error",
     "traceback": [
      "\u001b[1;31m---------------------------------------------------------------------------\u001b[0m",
      "\u001b[1;31mIndexError\u001b[0m                                Traceback (most recent call last)",
      "\u001b[1;32m~\\AppData\\Local\\Temp\\ipykernel_8736\\1444781398.py\u001b[0m in \u001b[0;36m<module>\u001b[1;34m\u001b[0m\n\u001b[0;32m     19\u001b[0m     \u001b[0mshift\u001b[0m \u001b[1;33m=\u001b[0m \u001b[1;36m0\u001b[0m\u001b[1;33m\u001b[0m\u001b[1;33m\u001b[0m\u001b[0m\n\u001b[0;32m     20\u001b[0m     \u001b[1;32mfor\u001b[0m \u001b[0midx_2\u001b[0m\u001b[1;33m,\u001b[0m \u001b[0mwave\u001b[0m \u001b[1;32min\u001b[0m \u001b[0menumerate\u001b[0m\u001b[1;33m(\u001b[0m\u001b[0mwave_sets\u001b[0m\u001b[1;33m[\u001b[0m\u001b[0mindex\u001b[0m\u001b[1;33m]\u001b[0m\u001b[1;33m)\u001b[0m\u001b[1;33m:\u001b[0m\u001b[1;33m\u001b[0m\u001b[1;33m\u001b[0m\u001b[0m\n\u001b[1;32m---> 21\u001b[1;33m         \u001b[0mlbl\u001b[0m \u001b[1;33m=\u001b[0m \u001b[0mos\u001b[0m\u001b[1;33m.\u001b[0m\u001b[0mpath\u001b[0m\u001b[1;33m.\u001b[0m\u001b[0msplit\u001b[0m\u001b[1;33m(\u001b[0m\u001b[0mfolder_list\u001b[0m\u001b[1;33m[\u001b[0m\u001b[0midx_2\u001b[0m\u001b[1;33m]\u001b[0m\u001b[1;33m)\u001b[0m\u001b[1;33m\u001b[0m\u001b[1;33m\u001b[0m\u001b[0m\n\u001b[0m\u001b[0;32m     22\u001b[0m         \u001b[0mdata\u001b[0m \u001b[1;33m=\u001b[0m \u001b[0mOD_norm\u001b[0m\u001b[1;33m[\u001b[0m\u001b[0midx_1\u001b[0m\u001b[1;33m]\u001b[0m\u001b[1;33m[\u001b[0m\u001b[0midx_2\u001b[0m\u001b[1;33m]\u001b[0m \u001b[1;33m+\u001b[0m \u001b[0mshift\u001b[0m\u001b[1;33m\u001b[0m\u001b[1;33m\u001b[0m\u001b[0m\n\u001b[0;32m     23\u001b[0m         \u001b[0max_1\u001b[0m\u001b[1;33m.\u001b[0m\u001b[0mplot\u001b[0m\u001b[1;33m(\u001b[0m\u001b[0mwave\u001b[0m\u001b[1;33m[\u001b[0m\u001b[0mstart\u001b[0m\u001b[1;33m[\u001b[0m\u001b[0midx_2\u001b[0m\u001b[1;33m]\u001b[0m\u001b[1;33m:\u001b[0m\u001b[0mstop\u001b[0m\u001b[1;33m[\u001b[0m\u001b[0midx_2\u001b[0m\u001b[1;33m]\u001b[0m\u001b[1;33m]\u001b[0m\u001b[1;33m,\u001b[0m \u001b[0mdata\u001b[0m\u001b[1;33m[\u001b[0m\u001b[0mstart\u001b[0m\u001b[1;33m[\u001b[0m\u001b[0midx_2\u001b[0m\u001b[1;33m]\u001b[0m\u001b[1;33m:\u001b[0m\u001b[0mstop\u001b[0m\u001b[1;33m[\u001b[0m\u001b[0midx_2\u001b[0m\u001b[1;33m]\u001b[0m\u001b[1;33m]\u001b[0m\u001b[1;33m,\u001b[0m \u001b[0mcolor\u001b[0m\u001b[1;33m=\u001b[0m\u001b[1;32mNone\u001b[0m\u001b[1;33m,\u001b[0m \u001b[0mmarker\u001b[0m\u001b[1;33m=\u001b[0m\u001b[1;32mNone\u001b[0m\u001b[1;33m,\u001b[0m \u001b[0mlinestyle\u001b[0m\u001b[1;33m=\u001b[0m\u001b[1;34m'-'\u001b[0m\u001b[1;33m,\u001b[0m \u001b[0malpha\u001b[0m\u001b[1;33m=\u001b[0m\u001b[1;36m1\u001b[0m\u001b[1;33m,\u001b[0m \u001b[0mlabel\u001b[0m\u001b[1;33m=\u001b[0m\u001b[0mlbl\u001b[0m\u001b[1;33m[\u001b[0m\u001b[1;36m1\u001b[0m\u001b[1;33m]\u001b[0m\u001b[1;33m)\u001b[0m\u001b[1;33m\u001b[0m\u001b[1;33m\u001b[0m\u001b[0m\n",
      "\u001b[1;31mIndexError\u001b[0m: list index out of range"
     ]
    },
    {
     "name": "stderr",
     "output_type": "stream",
     "text": [
      "c:\\Users\\sk88\\Documents\\Python\\Spectroscopy\\.spect_venv\\lib\\site-packages\\ipykernel_launcher.py:12: RuntimeWarning: divide by zero encountered in true_divide\n",
      "  if sys.path[0] == '':\n"
     ]
    },
    {
     "data": {
      "image/png": "[encoded data removed]",
      "text/plain": [
       "<Figure size 576x360 with 1 Axes>"
      ]
     },
     "metadata": {
      "needs_background": "light"
     },
     "output_type": "display_data"
    }
   ],
   "source": [
    "if zoom == 0:\n",
    "    string_format = path + '\\\\' + str(round(min(bg_wavelengths[0]))) + '_' + str(round(max(bg_wavelengths[0]))) + '_'\n",
    "else:\n",
    "    string_format = path + '\\\\' + str(lower) + '_' + str(upper) + '_'\n",
    "\n",
    "# create separate plots for each polarisation\n",
    "for idx_1, polarisation in enumerate(polarisations):\n",
    "    \n",
    "    fig_1, ax_1 = mp.subplots(figsize=(8, 5))\n",
    "    ax_1.set_title(str('Half-Wave Plate: ' + str(polarisation)))\n",
    "    ax_1.set(xlabel='Wavelength (nm)', ylabel='OD Normalised')\n",
    "    sec_ax = ax_1.secondary_xaxis('top', functions= (lambda x: 1e7 / x, lambda x: 1e7 / x))\n",
    "    sec_ax.set_xlabel('Wavenumber (cm$^{-1}$)')\n",
    "    ax_1.grid(True)\n",
    "    ax_1.grid(True, color='silver', linewidth=0.5)\n",
    "\n",
    "    \n",
    "    #shift each spectrum by a defined value\n",
    "    shift = 0\n",
    "    for idx_2, wave in enumerate(wave_sets[index]):\n",
    "        lbl = os.path.split(folder_list[idx_2])\n",
    "        data = OD_norm[idx_1][idx_2] + shift\n",
    "        ax_1.plot(wave[start[idx_2]:stop[idx_2]], data[start[idx_2]:stop[idx_2]], color=None, marker=None, linestyle='-', alpha=1, label=lbl[1])\n",
    "\n",
    "        shift += (0.25)\n",
    "    \n",
    "    ax_1.legend(loc='upper left', fontsize=8)\n",
    "\n",
    "    if save_fig == 1:\n",
    "        fig_1.savefig(fname=string_format + str(polarisation) + '.jpg', dpi='figure', format='jpg', bbox_inches='tight')"
   ]
  },
  {
   "cell_type": "markdown",
   "metadata": {},
   "source": [
    "##### Find Peaks\n",
    "\n",
    "###### Find peak locations, extract central wavelength / energy, linewidth and determine if Gaussian or Lorentzian."
   ]
  },
  {
   "cell_type": "code",
   "execution_count": null,
   "metadata": {},
   "outputs": [
    {
     "ename": "IndexError",
     "evalue": "index 1 is out of bounds for axis 0 with size 1",
     "output_type": "error",
     "traceback": [
      "\u001b[1;31m---------------------------------------------------------------------------\u001b[0m",
      "\u001b[1;31mIndexError\u001b[0m                                Traceback (most recent call last)",
      "\u001b[1;32m~\\AppData\\Local\\Temp\\ipykernel_8736\\1358403775.py\u001b[0m in \u001b[0;36m<module>\u001b[1;34m\u001b[0m\n\u001b[1;32m----> 1\u001b[1;33m \u001b[0mdata\u001b[0m \u001b[1;33m=\u001b[0m \u001b[0mOD_norm\u001b[0m\u001b[1;33m[\u001b[0m\u001b[1;36m1\u001b[0m\u001b[1;33m]\u001b[0m\u001b[1;33m[\u001b[0m\u001b[1;36m2\u001b[0m\u001b[1;33m]\u001b[0m\u001b[1;33m\u001b[0m\u001b[1;33m\u001b[0m\u001b[0m\n\u001b[0m\u001b[0;32m      2\u001b[0m \u001b[0mwl\u001b[0m \u001b[1;33m=\u001b[0m \u001b[0mwave\u001b[0m\u001b[1;33m[\u001b[0m\u001b[0mstart\u001b[0m\u001b[1;33m[\u001b[0m\u001b[1;36m0\u001b[0m\u001b[1;33m]\u001b[0m\u001b[1;33m:\u001b[0m\u001b[0mstop\u001b[0m\u001b[1;33m[\u001b[0m\u001b[1;36m0\u001b[0m\u001b[1;33m]\u001b[0m\u001b[1;33m]\u001b[0m\u001b[1;33m\u001b[0m\u001b[1;33m\u001b[0m\u001b[0m\n\u001b[0;32m      3\u001b[0m \u001b[1;33m\u001b[0m\u001b[0m\n\u001b[0;32m      4\u001b[0m \u001b[0mc\u001b[0m \u001b[1;33m=\u001b[0m \u001b[1;36m2.99792458E8\u001b[0m\u001b[1;33m\u001b[0m\u001b[1;33m\u001b[0m\u001b[0m\n\u001b[0;32m      5\u001b[0m \u001b[1;33m\u001b[0m\u001b[0m\n",
      "\u001b[1;32mc:\\Users\\sk88\\Documents\\Python\\Spectroscopy\\.spect_venv\\lib\\site-packages\\numpy\\ma\\core.py\u001b[0m in \u001b[0;36m__getitem__\u001b[1;34m(self, indx)\u001b[0m\n\u001b[0;32m   3217\u001b[0m         \u001b[1;31m# mask of being reshaped if it hasn't been set up properly yet\u001b[0m\u001b[1;33m\u001b[0m\u001b[1;33m\u001b[0m\u001b[1;33m\u001b[0m\u001b[0m\n\u001b[0;32m   3218\u001b[0m         \u001b[1;31m# So it's easier to stick to the current version\u001b[0m\u001b[1;33m\u001b[0m\u001b[1;33m\u001b[0m\u001b[1;33m\u001b[0m\u001b[0m\n\u001b[1;32m-> 3219\u001b[1;33m         \u001b[0mdout\u001b[0m \u001b[1;33m=\u001b[0m \u001b[0mself\u001b[0m\u001b[1;33m.\u001b[0m\u001b[0mdata\u001b[0m\u001b[1;33m[\u001b[0m\u001b[0mindx\u001b[0m\u001b[1;33m]\u001b[0m\u001b[1;33m\u001b[0m\u001b[1;33m\u001b[0m\u001b[0m\n\u001b[0m\u001b[0;32m   3220\u001b[0m         \u001b[0m_mask\u001b[0m \u001b[1;33m=\u001b[0m \u001b[0mself\u001b[0m\u001b[1;33m.\u001b[0m\u001b[0m_mask\u001b[0m\u001b[1;33m\u001b[0m\u001b[1;33m\u001b[0m\u001b[0m\n\u001b[0;32m   3221\u001b[0m \u001b[1;33m\u001b[0m\u001b[0m\n",
      "\u001b[1;31mIndexError\u001b[0m: index 1 is out of bounds for axis 0 with size 1"
     ]
    }
   ],
   "source": [
    "data = OD_norm[1][2]\n",
    "wl = wave[start[0]:stop[0]]\n",
    "\n",
    "c = 2.99792458E8\n",
    "\n",
    "N = np.size(data)\n",
    "time = [(x * 1E-9)/c for x in wl]\n",
    "T = time[1] - time[0]\n",
    "data_fft = rfft(data)\n",
    "data_freq = fftfreq(N,T)\n",
    "\n",
    "peak_thresh =  0.006 * np.max(data_fft)\n",
    "peaks, _ = ss.find_peaks(data_fft[:N//2], prominence=peak_thresh)\n",
    "\n",
    "background = mean(data[start[0]:stop[0]])\n",
    "\n",
    "data_filter = data_fft.copy()\n",
    "\n",
    "data_filter[350:360] = 0\n",
    "\n",
    "filtered_data = irfft(data_filter)\n",
    "fig, ax = mp.subplots()\n",
    "ax.plot(data_freq[:N//2], data_fft[:N//2])\n",
    "ax.plot(data_freq[:N//2], data_filter[:N//2])\n",
    "mp.ylim([0, 10])\n",
    "fig, ax = mp.subplots()\n",
    "ax.plot(wl, filtered_data[start[0]:stop[0]], 'r')\n",
    "fig_2, ax_2 = mp.subplots()\n",
    "ax_2.plot(wl, data[start[0]:stop[0]], 'b')"
   ]
  },
  {
   "cell_type": "code",
   "execution_count": null,
   "metadata": {},
   "outputs": [],
   "source": [
    "data = OD_norm[1][0]\n",
    "wl = wave[start[0]:stop[0]]\n",
    "\n",
    "c = 2.998E8\n",
    "\n",
    "N = np.size(data)\n",
    "time = [(x * 1E-9)/c for x in wl]\n",
    "T = time[1] - time[0]\n",
    "data_fft = rfft(data)\n",
    "data_freq = fftfreq(N,T)\n",
    "\n",
    "peak_thresh =  0.006 * np.max(data_fft)\n",
    "peaks, _ = ss.find_peaks(data_fft[:N//2], prominence=peak_thresh)\n",
    "\n",
    "background = mean(data[start[0]:stop[0]])\n",
    "\n",
    "data_filter = data_fft.copy()\n",
    "\n",
    "data_filter[350:360] = 0\n",
    "\n",
    "filtered_data = irfft(data_filter)\n",
    "fig, ax = mp.subplots()\n",
    "ax.plot(data_freq[:N//2], data_fft[:N//2])\n",
    "ax.plot(data_freq[:N//2], data_filter[:N//2])\n",
    "mp.ylim([0, 10])\n",
    "fig, ax = mp.subplots()\n",
    "ax.plot(wl, filtered_data[start[0]:stop[0]], 'r')\n",
    "fig_2, ax_2 = mp.subplots()\n",
    "ax_2.plot(wl, data[start[0]:stop[0]], 'b')"
   ]
  }
 ],
 "metadata": {
  "kernelspec": {
   "display_name": "Python 3.7.4 ('.spect_venv': venv)",
   "language": "python",
   "name": "python3"
  },
  "language_info": {
   "codemirror_mode": {
    "name": "ipython",
    "version": 3
   },
   "file_extension": ".py",
   "mimetype": "text/x-python",
   "name": "python",
   "nbconvert_exporter": "python",
   "pygments_lexer": "ipython3",
   "version": "3.7.4"
  },
  "orig_nbformat": 4,
  "vscode": {
   "interpreter": {
    "hash": "591e98aa5fd0eb4730f19f661e8a5c2fdbba266681562ca5e4ef59abda230351"
   }
  }
 },
 "nbformat": 4,
 "nbformat_minor": 2
}
