{
 "cells": [
  {
   "cell_type": "code",
   "execution_count": 1,
   "metadata": {},
   "outputs": [],
   "source": [
    "import sys\n",
    "# Add the parent directory to the system path\n",
    "sys.path.insert(1, r\"C:\\Users\\sk88\\Documents\\python_scripts\")\n",
    "\n",
    "import matplotlib.pyplot as mp\n",
    "import numpy as np\n",
    "import os\n",
    "\n",
    "from Function_files.addresses import Init_Directories\n",
    "dirs = Init_Directories()\n",
    "from Function_files.data_functions import write_file\n",
    "from Function_files.math_functions import OD_calc\n",
    "\n",
    "from USB2000.OSA2000 import USB2000"
   ]
  },
  {
   "cell_type": "code",
   "execution_count": null,
   "metadata": {},
   "outputs": [],
   "source": [
    "# TODO \n",
    "# add referenece import and OD calc\n",
    "# fix save to txt so it is compatible with data analysis code\n",
    "\n",
    "polarisation = 'FAV'\n",
    "temperature = '120K/'\n",
    "averages = 100\n",
    "int_time = 1000\n",
    "location = dirs.dropbox + \"BB_telecom_QM/\" + \"2024_PrYSO/Spectroscopy/Teledyne/03_2036_17/1909/WL/VIS/\"\n",
    "file_name = location + temperature + f\"{polarisation}_{averages}_avg\"\n",
    "\n",
    "OSA = USB2000()\n",
    "# set integration time of the device\n",
    "OSA.set_int_time(int_time)\n",
    "# take averaged spectra: returns [wavelength, intensities]\n",
    "averaged = OSA.take_average(n_samples=averages)\n",
    "# disconnect from the device\n",
    "OSA.disconnect()"
   ]
  },
  {
   "cell_type": "code",
   "execution_count": null,
   "metadata": {},
   "outputs": [],
   "source": [
    "# plot the data\n",
    "reference = None#location + \"References/\" + f\"{polarisation}_{averages}_avg\"\n",
    "if reference:\n",
    "    ref = np.loadtxt(reference, delimiter=';')\n",
    "    od = OD_calc(ref[1], averaged[1])\n",
    "    fig, ax = mp.subplots(nrows=2, sharex=True)\n",
    "    ax[0].plot(averaged[0], averaged[1])\n",
    "    ax[1].plot(averaged[0], od)\n",
    "else:\n",
    "    fig, ax = mp.subplots() \n",
    "    ax.plot(averaged[0], averaged[1])"
   ]
  },
  {
   "cell_type": "code",
   "execution_count": null,
   "metadata": {},
   "outputs": [],
   "source": [
    "# save the data if desired\n",
    "write_file(file_name, averaged, 'csv')"
   ]
  }
 ],
 "metadata": {
  "kernelspec": {
   "display_name": ".Spectroscopy",
   "language": "python",
   "name": "python3"
  },
  "language_info": {
   "codemirror_mode": {
    "name": "ipython",
    "version": 3
   },
   "file_extension": ".py",
   "mimetype": "text/x-python",
   "name": "python",
   "nbconvert_exporter": "python",
   "pygments_lexer": "ipython3",
   "version": "3.12.4"
  }
 },
 "nbformat": 4,
 "nbformat_minor": 2
}
