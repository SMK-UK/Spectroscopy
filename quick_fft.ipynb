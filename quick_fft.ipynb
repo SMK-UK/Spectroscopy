{
 "cells": [
  {
   "cell_type": "code",
   "execution_count": 1,
   "metadata": {},
   "outputs": [],
   "source": [
    "import spec_funcs as sf\n",
    "import pandas as pd\n",
    "import os\n",
    "import matplotlib.pyplot as mp\n",
    "import time"
   ]
  },
  {
   "cell_type": "code",
   "execution_count": null,
   "metadata": {},
   "outputs": [],
   "source": [
    "path = r\"C:\\Users\\sk88\\Desktop\\New folder\"\n",
    "exts = ('.csv')\n",
    "exceptions = ('.png', '.txt')"
   ]
  },
  {
   "cell_type": "code",
   "execution_count": 3,
   "metadata": {},
   "outputs": [],
   "source": [
    "folder_list, file_list = sf.dir_interogate(path, exts, exceptions)\n",
    "path_names = sf.read_files(folder_list, file_list)"
   ]
  },
  {
   "cell_type": "code",
   "execution_count": 4,
   "metadata": {},
   "outputs": [],
   "source": [
    "extracted_excel = sf.excel_extract(folder_list, file_list)"
   ]
  },
  {
   "cell_type": "code",
   "execution_count": null,
   "metadata": {},
   "outputs": [],
   "source": [
    "mp.plot(extracted_excel[0][0][0])\n"
   ]
  },
  {
   "cell_type": "code",
   "execution_count": null,
   "metadata": {},
   "outputs": [],
   "source": [
    "mp.plot(extracted_excel[0][0][0])"
   ]
  },
  {
   "cell_type": "code",
   "execution_count": null,
   "metadata": {},
   "outputs": [],
   "source": [
    "import numpy as np\n",
    "mp.plot(new[0], new[1])\n",
    "mp.plot(new[0], new[4])\n",
    "\n",
    "min = np.argmax(new[1])\n",
    "delta = np.argmin(new[1]) - np.argmax(new[1])\n",
    "max = min + 2*delta"
   ]
  },
  {
   "cell_type": "code",
   "execution_count": null,
   "metadata": {},
   "outputs": [],
   "source": [
    "mp.plot(new[0][min:max], new[1][min:max])\n",
    "mp.plot(new[0][min:max], new[4][min:max])"
   ]
  },
  {
   "cell_type": "code",
   "execution_count": null,
   "metadata": {},
   "outputs": [],
   "source": [
    "freq, fft_y = sf.data_fft(new[0][min:max], new[4][min:max])\n",
    "\n",
    "mp.plot(freq[0:50]*1e-6, fft_y[0:50])"
   ]
  },
  {
   "cell_type": "code",
   "execution_count": null,
   "metadata": {},
   "outputs": [],
   "source": [
    "mp.plot(fft_data_x[0:1000]*1e-6, fft_data_y[0:1000])"
   ]
  },
  {
   "cell_type": "code",
   "execution_count": null,
   "metadata": {},
   "outputs": [],
   "source": [
    "peaks = sf.peak_find(fft_data_y)"
   ]
  },
  {
   "cell_type": "code",
   "execution_count": null,
   "metadata": {},
   "outputs": [],
   "source": [
    "typer = excel_data[0]"
   ]
  }
 ],
 "metadata": {
  "kernelspec": {
   "display_name": ".spect_venv",
   "language": "python",
   "name": "python3"
  },
  "language_info": {
   "codemirror_mode": {
    "name": "ipython",
    "version": 3
   },
   "file_extension": ".py",
   "mimetype": "text/x-python",
   "name": "python",
   "nbconvert_exporter": "python",
   "pygments_lexer": "ipython3",
   "version": "3.11.2"
  },
  "orig_nbformat": 4
 },
 "nbformat": 4,
 "nbformat_minor": 2
}
