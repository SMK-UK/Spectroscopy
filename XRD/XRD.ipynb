{
 "cells": [
  {
   "cell_type": "markdown",
   "metadata": {},
   "source": [
    "\n",
    "### Crystal XRD Analysis \n",
    "\n",
    "        Sean Keenan, PhD Physics  \n",
    "        Quantum Memories Group, Heriot-Watt University, Edinburgh  \n",
    "        2025 "
   ]
  },
  {
   "cell_type": "code",
   "execution_count": 1,
   "metadata": {},
   "outputs": [],
   "source": [
    "import sys\n",
    "# Add the parent directory to the system path\n",
    "sys.path.insert(1, r\"C:\\Users\\keena\\Documents\\vscode\")\n",
    "\n",
    "from Function_files.data_functions import open_csv\n",
    "from Function_files.fitting_functions import peak_find\n",
    "from Function_files.plotting_class import Plotter\n",
    "from Function_files.addresses import Init_Directories\n",
    "\n",
    "from numpy import array, isnan, log, min, max\n",
    "\n",
    "plt = Plotter()\n",
    "dirs = Init_Directories()"
   ]
  },
  {
   "cell_type": "markdown",
   "metadata": {},
   "source": [
    "- Load Data\n",
    "- Label"
   ]
  },
  {
   "cell_type": "code",
   "execution_count": 2,
   "metadata": {},
   "outputs": [],
   "source": [
    "# directory of files and names\n",
    "path = dirs.code + \"Spectroscopy/XRD/Experimental/\"\n",
    "exp_fname = \"PowDLL_XY_XRD_Monday, May 22, 2023.csv\"\n",
    "pro_fname = \"PrO_stick.csv\"\n",
    "yvo_fname = \"YVO_stick.csv\"\n",
    "# import files\n",
    "xrd = open_csv(path + exp_fname, header=0)\n",
    "pro = open_csv(path + pro_fname, separators='\\t', header=0)\n",
    "yvo = open_csv(path + yvo_fname, separators='\\t', header=0)"
   ]
  },
  {
   "cell_type": "markdown",
   "metadata": {},
   "source": [
    "- Tidy Data\n",
    "- Extract peak angles\n"
   ]
  },
  {
   "cell_type": "code",
   "execution_count": 3,
   "metadata": {},
   "outputs": [],
   "source": [
    "# remove nan from short xrd data and normalise\n",
    "xrd_bool = [~isnan(xrd[:,1]), ~isnan(xrd[:,3])]\n",
    "x_1 = xrd[:,0][xrd_bool[0]]\n",
    "y_1 = log(xrd[:,1])[xrd_bool[0]]\n",
    "y_1 = y_1-min(y_1)\n",
    "\n",
    "x_2 = xrd[:,2][xrd_bool[1]]\n",
    "y_2 = log(xrd[:,3])[xrd_bool[1]]\n",
    "y_2 = y_2-min(y_2)\n",
    "\n",
    "xrd_norm = [x_1, 100*y_1/max(y_1), x_2, 100*y_2/max(y_2)]"
   ]
  },
  {
   "cell_type": "markdown",
   "metadata": {},
   "source": [
    "\n",
    "- Plot the XRD data\n",
    "- Save peak locations\n"
   ]
  },
  {
   "cell_type": "code",
   "execution_count": null,
   "metadata": {},
   "outputs": [],
   "source": []
  },
  {
   "cell_type": "code",
   "execution_count": null,
   "metadata": {},
   "outputs": [],
   "source": [
    "save = False\n",
    "plt.folder = \"Documents/vscode/Spectroscopy/XRD/\"\n",
    "plt.fname = \"PrYVO_05pc\"\n",
    "plt.format = 'svg'\n",
    "plt.x_label = '2$\\\\Theta$'\n",
    "plt.y_label = 'Intensity \\\\%'\n",
    "labels = ['c-axis $\\\\parallel$', 'c-axis $\\\\perp$']\n",
    "fig_1, ax_1 = plt.plot_XRD(xrd_norm, labels)\n",
    "ax_1.set_xticks([10, 20, 30, 40, 50, 60, 70, 80])\n",
    "\n",
    "if save:\n",
    "    plt.save_fig(figure=fig)"
   ]
  },
  {
   "cell_type": "code",
   "execution_count": null,
   "metadata": {},
   "outputs": [],
   "source": [
    "save = False\n",
    "plt.folder = \"Documents/vscode/Spectroscopy/XRD/\"\n",
    "plt.fname = \"Stick\"\n",
    "plt.format = 'svg'\n",
    "\n",
    "labels = ['PrO', 'YVO']\n",
    "stick = [pro[:,0], pro[:,1], yvo[:,0], yvo[:,1]]\n",
    "\n",
    "fig, ax = plt.plot_XRD_stick(stick, labels)\n",
    "fig.supylabel('Intensity \\\\%')\n",
    "ax[1].set(xlabel='2$\\\\Theta$')\n",
    "\n",
    "if save:\n",
    "    plt.save_fig(figure=fig)"
   ]
  }
 ],
 "metadata": {
  "kernelspec": {
   "display_name": ".spectroscopy",
   "language": "python",
   "name": "python3"
  },
  "language_info": {
   "codemirror_mode": {
    "name": "ipython",
    "version": 3
   },
   "file_extension": ".py",
   "mimetype": "text/x-python",
   "name": "python",
   "nbconvert_exporter": "python",
   "pygments_lexer": "ipython3",
   "version": "3.13.1"
  },
  "orig_nbformat": 4
 },
 "nbformat": 4,
 "nbformat_minor": 2
}
