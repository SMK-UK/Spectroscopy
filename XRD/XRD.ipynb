{
 "cells": [
  {
   "cell_type": "code",
   "execution_count": null,
   "metadata": {},
   "outputs": [],
   "source": [
    "import sys\n",
    "# Add the parent directory to the system path\n",
    "sys.path.insert(1, r\"C:\\Users\\keena\\Documents\\University\\python_scripts\")\n",
    "\n",
    "from Function_files.addresses import Init_Directories\n",
    "dirs = Init_Directories()"
   ]
  },
  {
   "cell_type": "code",
   "execution_count": 2,
   "metadata": {},
   "outputs": [],
   "source": [
    "path = dirs.base + \"XRD/Experimental/\"\n",
    "file_name = \"PowDLL_XY_XRD_Monday, May 22, 2023.csv\"\n",
    "data = sf.open_excel(path + file_name)"
   ]
  },
  {
   "cell_type": "code",
   "execution_count": null,
   "metadata": {},
   "outputs": [],
   "source": [
    "fig, ax = mp.subplots()\n",
    "\n",
    "ax.plot(data[0], np.log(data[1]), label='c-axis vertical')\n",
    "ax.plot(data[2], np.log(data[3]), label='c-axis horizontal')\n",
    "ax.set(xlabel='2$\\Theta$', ylabel='Intensity (AU)')\n",
    "ax.grid()\n",
    "ax.legend()\n",
    "fig.savefig(fname='XRD.jpg', dpi=300, format='png', bbox_inches='tight')"
   ]
  }
 ],
 "metadata": {
  "kernelspec": {
   "display_name": ".spect_venv",
   "language": "python",
   "name": "python3"
  },
  "language_info": {
   "codemirror_mode": {
    "name": "ipython",
    "version": 3
   },
   "file_extension": ".py",
   "mimetype": "text/x-python",
   "name": "python",
   "nbconvert_exporter": "python",
   "pygments_lexer": "ipython3",
   "version": "3.11.1"
  },
  "orig_nbformat": 4
 },
 "nbformat": 4,
 "nbformat_minor": 2
}
