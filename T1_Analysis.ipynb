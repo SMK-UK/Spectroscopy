{
 "cells": [
  {
   "attachments": {},
   "cell_type": "markdown",
   "metadata": {},
   "source": [
    "\n",
    "### T1 Data Analysis  \n",
    "\n",
    "        Sean Keenan, PhD Physics  \n",
    "        Quantum Memories Group, Heriot-Watt University, Edinburgh  \n",
    "        2021  "
   ]
  },
  {
   "cell_type": "code",
   "execution_count": null,
   "metadata": {},
   "outputs": [],
   "source": [
    "import os\n",
    "import spec_funcs as sf\n",
    "import fit_funcs as ff\n",
    "from filter_funcs import moving_av\n",
    "from scipy.signal import fftconvolve\n",
    "import numpy as np\n",
    "import matplotlib.pyplot as mp\n",
    "\n",
    "mp.style.use('signature.mplstyle')\n",
    "\n",
    "path = r\"C:\\Users\\sk88\\Desktop\\YVO_01_T1\""
   ]
  },
  {
   "attachments": {},
   "cell_type": "markdown",
   "metadata": {},
   "source": [
    "\n",
    "##### Import Data  \n",
    "        \n",
    "        Load data sets & extract time and voltage data\n"
   ]
  },
  {
   "cell_type": "code",
   "execution_count": null,
   "metadata": {},
   "outputs": [],
   "source": [
    "_, file_names = sf.dir_interogate(path)\n",
    "file_paths = [os.path.join(path, f_name) for f_name in file_names]\n",
    "data_lists = [sf.open_excel(file_path) for file_path in file_paths]\n",
    "length_data_lists = range(len(data_lists))\n",
    "time_lists = [data_lists[n][0] for n in length_data_lists]\n",
    "trigger_lists = [data_lists[n][1] for n in length_data_lists]\n",
    "reference_lists = [data_lists[n][2] for n in length_data_lists]\n",
    "transmitted_lists = [data_lists[n][3] for n in length_data_lists]"
   ]
  },
  {
   "attachments": {},
   "cell_type": "markdown",
   "metadata": {},
   "source": [
    "\n",
    "##### Check channel assignment  \n",
    "\n",
    "        Plot one of each channel to check assignment is correct for calculations\n"
   ]
  },
  {
   "cell_type": "code",
   "execution_count": null,
   "metadata": {},
   "outputs": [],
   "source": [
    "fig, ax = mp.subplots(nrows=3, ncols=1, sharex='all')\n",
    "fig.supxlabel('Time (s)')\n",
    "fig.supylabel('Voltage (V)')\n",
    "\n",
    "ax[0].set_title('Trigger')\n",
    "ax[0].plot(time_lists[0], trigger_lists[0])\n",
    "ax[1].set_title('Reference')\n",
    "ax[1].plot(time_lists[0], reference_lists[0])\n",
    "ax[2].set_title('Transmitted')\n",
    "ax[2].plot(time_lists[0], transmitted_lists[0])"
   ]
  },
  {
   "attachments": {},
   "cell_type": "markdown",
   "metadata": {},
   "source": [
    "\n",
    "##### Fine Tune Trigger Point\n",
    "\n",
    "        Check the trigger index and adjust if neccesary\n",
    "        "
   ]
  },
  {
   "cell_type": "code",
   "execution_count": null,
   "metadata": {},
   "outputs": [],
   "source": [
    "# find the trigger indexes\n",
    "trig_indexes = [sf.find_trigger(trigger_list, modifier=0.989) for trigger_list in trigger_lists]\n",
    "# plot small portion to check ramp off on transmitted data\n",
    "ramp_off = 2000 + trig_indexes[0]\n",
    "# pick an offset\n",
    "offset = 800\n",
    "# plot the transmitted data from trigger point and compare with the offset \n",
    "fig, ax = mp.subplots(ncols=2, nrows=2)\n",
    "# shared labels\n",
    "fig.supxlabel('Time ($\\mu$s)')\n",
    "fig.supylabel('Voltage (V)')\n",
    "# plot on separate subplots\n",
    "ax[0][0].set_title('Reference')\n",
    "ax[0][0].plot(time_lists[0][trig_indexes[0]:ramp_off], reference_lists[0][trig_indexes[0]:ramp_off])\n",
    "ax[0][0].ticklabel_format(axis='both', style='sci', scilimits=(0,0))\n",
    "ax[0][1].set_title('Transmitted')\n",
    "ax[0][1].plot(time_lists[0][trig_indexes[0]:ramp_off], transmitted_lists[0][trig_indexes[0]:ramp_off])\n",
    "ax[0][1].ticklabel_format(axis='both', style='sci', scilimits=(0,0))\n",
    "ax[1][0].set_title('Reference Cut')\n",
    "ax[1][0].plot(time_lists[0][trig_indexes[0]+offset:ramp_off], reference_lists[0][trig_indexes[0]+offset:ramp_off])\n",
    "ax[1][0].ticklabel_format(axis='both', style='sci', scilimits=(0,0))\n",
    "ax[1][0].set_yscale('log')\n",
    "ax[1][1].set_title('Transmitted Cut')\n",
    "ax[1][1].plot(time_lists[0][trig_indexes[0]+offset:ramp_off], transmitted_lists[0][trig_indexes[0]+offset:ramp_off])\n",
    "ax[1][1].ticklabel_format(axis='both', style='sci', scilimits=(0,0))\n",
    "ax[1][1].set_yscale('log')"
   ]
  },
  {
   "attachments": {},
   "cell_type": "markdown",
   "metadata": {},
   "source": [
    "\n",
    "##### Process Data  \n",
    "\n",
    "        Remove negatives and create smoothed and normalised sets\n"
   ]
  },
  {
   "cell_type": "code",
   "execution_count": null,
   "metadata": {},
   "outputs": [],
   "source": [
    "# initial guess for the decay times (us)\n",
    "guess_ref_T1 = 1E-6\n",
    "guess_T1 = 10E-6\n",
    "# shorten data for fitting by finding last index of useful data\n",
    "ref_stop_index = [round(guess_ref_T1*10 / (time[1] - time[0])) for time in time_lists]\n",
    "stop_index = [round(guess_T1*1.8  / (time[1] - time[0])) for time in time_lists]\n",
    "# generate new list of trigger indexes plus the offset\n",
    "new_trig_index = [value + offset for value in trig_indexes]\n",
    "# trim the data sets to only contain data from the trigger onward to the end of useful data index\n",
    "time_cut_lists = [time_list[start:start+stop] for time_list, start, stop in zip(time_lists, new_trig_index, stop_index)]\n",
    "ref_time_lists = [time_list[start:start+stop] for time_list, start, stop in zip(time_lists, new_trig_index, ref_stop_index)]\n",
    "trans_cut_lists = [trans_list[start:start+stop] for trans_list, start, stop in zip(transmitted_lists, new_trig_index, stop_index)]\n",
    "ref_cut_lists = [ref_list[start:start+stop] for ref_list, start, stop in zip(reference_lists, new_trig_index, ref_stop_index)]\n",
    "# find max and min values in transmitted data for list comprehension\n",
    "list_of_mins = [min(trans_list) for trans_list in transmitted_lists]\n",
    "list_of_maxs = [max(trans_list) for trans_list in trans_cut_lists]\n",
    "ref_min_list = [min(ref_list) for ref_list in reference_lists]\n",
    "ref_max_list = [max(ref_list) for ref_list in ref_cut_lists]\n",
    "# create a boxcar window and then create a list of smoothed data\n",
    "avg_window = moving_av(50)\n",
    "length_avg_window = avg_window.shape[0] // 2\n",
    "# create lists of smoothed, corrected, smoothed and corrected\n",
    "ref_corrected = [[value - ref_min for value in ref_list] for ref_list, ref_min in zip(ref_cut_lists, ref_min_list)]\n",
    "trans_smoothed = [fftconvolve(avg_window, trans_cut_list)[length_avg_window-1:-length_avg_window] for trans_cut_list in trans_cut_lists]\n",
    "trans_corrected = [[value - trans_min for value in trans_list] for trans_list, trans_min in zip(trans_cut_lists,list_of_mins)]\n",
    "trans_avg_cor = [[value - trans_min for value in smoothed_list] for smoothed_list, trans_min in zip(trans_smoothed, list_of_mins)]"
   ]
  },
  {
   "cell_type": "markdown",
   "metadata": {},
   "source": [
    "\n",
    "##### Fit to Reference Detector Data\n",
    "        Determine Fall Time"
   ]
  },
  {
   "cell_type": "code",
   "execution_count": null,
   "metadata": {},
   "outputs": [],
   "source": [
    "ref_zipped = zip(ref_time_lists, ref_corrected, ref_max_list, ref_min_list)\n",
    "fit_ref_corrected = [ff.fit_exp_decay(time, ref, params=(max_value, guess_ref_T1, min_value)) for time, ref, max_value, min_value in ref_zipped]\n",
    "# loop over references - fit and plot data\n",
    "for idx, time in enumerate(ref_time_lists):\n",
    "    # zip data together for list comprehension\n",
    "\n",
    "    fig, ax = mp.subplots(nrows=1, ncols=2)\n",
    "    \n",
    "    ax[0].set_title('Fluorescence Fit')\n",
    "    ax[0].plot(time, ref_corrected[idx], color='blue', alpha=0.5, label='Exp. Data')\n",
    "    ax[0].plot(time, ff.exp_decay(np.array(time), *fit_ref_corrected[idx][0]), color='orange', linestyle='--', alpha=1, label='Fit')\n",
    "    ax[0].ticklabel_format(axis='both', style='sci', scilimits=(0,0), useMathText = True)\n",
    "    ax[0].legend()\n",
    "    ax[1].set_title('Log Scale Fit')\n",
    "    ax[1].plot(time, ref_corrected[idx], color='blue', alpha=0.5, label='Exp. Data')\n",
    "    ax[1].plot(time, ff.exp_decay(np.array(time), *fit_ref_corrected[idx][0]), color='orange', linestyle='--', alpha=1, label='Fit')\n",
    "    ax[1].set_yscale('log')\n",
    "    ax[1].legend()\n",
    "    print('Fit Params data[{0}]:'.format(idx))\n",
    "    print(\"I0 : {0:2.2f} mV, T1 : {1:2.2f} us, Y0 : {2:2.2f} mV\".format(*fit_ref_corrected[idx][0]*1E6))\n",
    "    print('Fit Error data[{0}]:'.format(idx))\n",
    "    print(\"dI0 : {0:2.2f} mV, dT1 : {1:2.2f} us, dY0 : {2:2.2f} mV \\n\".format(*fit_ref_corrected[idx][1]*1E6))\n",
    "\n",
    "ref_fall_times = [T1[1][0] for T1 in fit_ref_corrected]"
   ]
  },
  {
   "cell_type": "code",
   "execution_count": null,
   "metadata": {},
   "outputs": [],
   "source": [
    "mp.plot(time_cut_lists[0], trans_smoothed[0])"
   ]
  },
  {
   "cell_type": "markdown",
   "metadata": {},
   "source": [
    "\n",
    "##### Fit To Corrected Data\n",
    "\n",
    "        Fit to double exponential decay and return array of fit params and errors\n",
    "      "
   ]
  },
  {
   "cell_type": "code",
   "execution_count": null,
   "metadata": {},
   "outputs": [],
   "source": [
    "# zip data together for list comprehension\n",
    "zipped_data = zip(time_cut_lists, trans_corrected, list_of_maxs, ref_max_list, list_of_mins, ref_fall_times)\n",
    "fit_corrected = [ff.fit_dbl_exp_decay(time, trans, params=(0.3*max_val, ref_max, guess_T1, fall_time, min_val)) for time, trans, max_val, ref_max, min_val, fall_time in zipped_data]\n",
    "# loop over corrected transmitted data - fit and plot data\n",
    "for idx, time in enumerate(time_cut_lists):\n",
    "    print(idx)\n",
    "\n",
    "    fig, ax = mp.subplots(nrows=1, ncols=2)\n",
    "    \n",
    "    ax[0].set_title('Fluorescence Fit')\n",
    "    ax[0].plot(time, trans_corrected[idx], color='blue', alpha=0.5, label='Exp. Data')\n",
    "    ax[0].plot(time, ff.dbl_exp_decay(np.array(time), *fit_corrected[idx][0]), color='orange', linestyle='--', alpha=1, label='Fit')\n",
    "    ax[0].ticklabel_format(axis='both', style='sci', scilimits=(0,0), useMathText = True)\n",
    "    ax[0].legend()\n",
    "    \n",
    "    ax[1].set_title('Log Scale Fit')\n",
    "    ax[1].plot(time, trans_corrected[idx], color='blue', alpha=0.5, label='Exp. Data')\n",
    "    ax[1].plot(time, ff.dbl_exp_decay(np.array(time), *fit_corrected[idx][0]), color='orange', linestyle='--', alpha=1, label='Fit')\n",
    "    ax[1].set_yscale('log')\n",
    "    ax[1].legend()\n",
    "    print('Fit Params data[{0}]:'.format(idx))\n",
    "    print(\"I01 : {0:2.2f} mV, I02 : {1:2.2f} mV, T11 : {2:2.2f} us, T12 : {3:2.2f} us, Y0 : {4:2.2f} mV\".format(*fit_corrected[idx][0]*1E6))\n",
    "    print('Fit Error data[{0}]:'.format(idx))\n",
    "    print(\"dI01 : {0:2.2f} mV, dI02 : {1:2.2f} mV, dT11 : {2:2.2f} us, dT12 : {3:2.2f} us, dY0 : {4:2.2f} mV \\n\".format(*fit_corrected[idx][1]*1E6))"
   ]
  },
  {
   "cell_type": "code",
   "execution_count": null,
   "metadata": {},
   "outputs": [],
   "source": [
    "# zip data together for list comprehension\n",
    "avg_cor_data = zip(time_cut_lists, trans_avg_cor, list_of_maxs, ref_max_list, list_of_mins, ref_fall_times)\n",
    "fit_avg_cor = [ff.fit_dbl_exp_decay(time, trans, params=(0.3*max_val, ref_max, guess_T1, fall_time, min_val)) for time, trans, max_val, ref_max, min_val, fall_time in avg_cor_data]\n",
    "# loop over averaged and corrected transmitted data - fit and plot\n",
    "for idx, time in enumerate(time_cut_lists):\n",
    "    print(idx)\n",
    "\n",
    "    fig, ax = mp.subplots(nrows=1, ncols=2)\n",
    "    \n",
    "    ax[0].set_title('Fluorescence Fit')\n",
    "    ax[0].plot(time, trans_avg_cor[idx], color='blue', alpha=0.5, label='Exp. Data')\n",
    "    ax[0].plot(time, ff.dbl_exp_decay(np.array(time), *fit_avg_cor[idx][0]), color='orange', linestyle='--', alpha=1, label='Fit')\n",
    "    ax[0].ticklabel_format(axis='both', style='sci', scilimits=(0,0), useMathText = True)\n",
    "    ax[0].legend()\n",
    "    \n",
    "    ax[1].set_title('Log Scale Fit')\n",
    "    ax[1].plot(time, trans_avg_cor[idx], color='blue', alpha=0.5, label='Exp. Data')\n",
    "    ax[1].plot(time, ff.dbl_exp_decay(np.array(time), *fit_avg_cor[idx][0]), color='orange', linestyle='--', alpha=1, label='Fit')\n",
    "    ax[1].set_yscale('log')\n",
    "    ax[1].legend()\n",
    "    print('Fit Params data[{0}]:'.format(idx))\n",
    "    print(\"I01 : {0:2.2f} mV, I02 : {1:2.2f} mV, T11 : {2:2.2f} us, T12 : {3:2.2f} us, Y0 : {4:2.2f} mV\".format(*fit_corrected[idx][0]*1E6))\n",
    "    print('Fit Error data[{0}]:'.format(idx))\n",
    "    print(\"dI01 : {0:2.2f} mV, dI02 : {1:2.2f} mV, dT11 : {2:2.2f} us, dT12 : {3:2.2f} us, dY0 : {4:2.2f} mV \\n\".format(*fit_corrected[idx][1]*1E6))"
   ]
  }
 ],
 "metadata": {
  "kernelspec": {
   "display_name": ".spect_venv",
   "language": "python",
   "name": "python3"
  },
  "language_info": {
   "codemirror_mode": {
    "name": "ipython",
    "version": 3
   },
   "file_extension": ".py",
   "mimetype": "text/x-python",
   "name": "python",
   "nbconvert_exporter": "python",
   "pygments_lexer": "ipython3",
   "version": "3.11.2"
  },
  "orig_nbformat": 4
 },
 "nbformat": 4,
 "nbformat_minor": 2
}
