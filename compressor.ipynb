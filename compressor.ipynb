{
 "cells": [
  {
   "cell_type": "code",
   "execution_count": null,
   "metadata": {},
   "outputs": [],
   "source": [
    "from time import perf_counter as tick\n",
    "import os, re\n",
    "import numpy as np\n",
    "import matplotlib.pyplot as mp\n",
    "import scipy.interpolate as sp\n",
    "import spec_funcs as sf\n",
    "from scipy.fftpack import fft, fftfreq"
   ]
  },
  {
   "cell_type": "code",
   "execution_count": null,
   "metadata": {},
   "outputs": [],
   "source": [
    "path = 'C:\\\\Users\\\\sk88\\\\Desktop\\\\Comp_sig\\\\COMP_UNF.csv'\n",
    "\n",
    "time = []\n",
    "amp = []\n",
    "\n",
    "with open(path, 'r', newline='') as raw_file:\n",
    "    for row in raw_file:\n",
    "        if sf.check_str(row) == True:\n",
    "            temp = re.split('\\t|,|;', row)\n",
    "            time.append(float(temp[0]))\n",
    "            amp.append(float(temp[1]))\n",
    "\n",
    "mp.plot(time[0:5000], amp[0:5000])"
   ]
  },
  {
   "cell_type": "code",
   "execution_count": null,
   "metadata": {},
   "outputs": [],
   "source": [
    "freq = 25\n",
    "omega = 2*np.pi*freq\n",
    "N = np.size(amp)\n",
    "T= time[1] - time[0]\n",
    "test_time = np.arange(start=np.min(time), stop=np.max(time)+T, step=T)\n",
    "wave = np.sin(omega*test_time)\n",
    "\n",
    "mp.plot(test_time, wave)"
   ]
  },
  {
   "cell_type": "code",
   "execution_count": null,
   "metadata": {},
   "outputs": [],
   "source": [
    "test_sig = fft(wave)\n",
    "test_freq = fftfreq(N,T)\n",
    "\n",
    "mp.plot(test_freq[0:2500], np.sqrt(np.abs(test_sig))[0:2500])"
   ]
  },
  {
   "cell_type": "code",
   "execution_count": null,
   "metadata": {},
   "outputs": [],
   "source": [
    "x, y = sf.data_fft(test_time, wave)\n",
    "mp.plot(x[0:250], y[0:250])"
   ]
  },
  {
   "cell_type": "code",
   "execution_count": null,
   "metadata": {},
   "outputs": [],
   "source": [
    "mp.plot(time[0:50], amp[0:50])"
   ]
  },
  {
   "cell_type": "code",
   "execution_count": null,
   "metadata": {},
   "outputs": [],
   "source": [
    "cryo_sig = fft(amp)\n",
    "cryo_freq = fftfreq(N, T)\n",
    "\n",
    "mp.plot(cryo_freq[0:250], np.sqrt(np.abs(cryo_sig[0:250])))\n",
    "mp.xlabel('Frequency (Hz)')\n",
    "mp.ylabel('Amplitude (AU)')"
   ]
  }
 ],
 "metadata": {
  "kernelspec": {
   "display_name": "Python 3.7.4 ('.spect_venv': venv)",
   "language": "python",
   "name": "python3"
  },
  "language_info": {
   "codemirror_mode": {
    "name": "ipython",
    "version": 3
   },
   "file_extension": ".py",
   "mimetype": "text/x-python",
   "name": "python",
   "nbconvert_exporter": "python",
   "pygments_lexer": "ipython3",
   "version": "3.11.2"
  },
  "orig_nbformat": 4,
  "vscode": {
   "interpreter": {
    "hash": "591e98aa5fd0eb4730f19f661e8a5c2fdbba266681562ca5e4ef59abda230351"
   }
  }
 },
 "nbformat": 4,
 "nbformat_minor": 2
}
