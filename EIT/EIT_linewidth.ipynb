{
 "cells": [
  {
   "cell_type": "code",
   "execution_count": null,
   "metadata": {},
   "outputs": [],
   "source": [
    "import sys\n",
    "# Add the parent directory to the system path\n",
    "sys.path.insert(1, r\"C:\\Users\\keena\\Documents\\University\\python_scripts\")\n",
    "\n",
    "import Function_files.data_functions as dat\n",
    "from Function_files.plotting_functions import plot_scope\n",
    "from Function_files.filter_functions import smooth_data \n",
    "from Function_files.math_functions import average_arrays, zoom\n",
    "from Function_files.fitting_functions import fit_gls, peak_find, pseudo_voigt, lorentzian, fit_lorentz\n",
    "\n",
    "import os\n",
    "import numpy as np\n",
    "import matplotlib.pyplot as mp\n",
    "\n",
    "path = r\"C:\\Users\\keena\\Desktop\\Paderborn EIT\"\n",
    "exts = '.csv'\n",
    "\n",
    "di = dict(\n",
    "\n",
    "time = 0,\n",
    "scan = 1,\n",
    "probe = 2\n",
    "\n",
    ")"
   ]
  },
  {
   "cell_type": "code",
   "execution_count": null,
   "metadata": {},
   "outputs": [],
   "source": [
    "# populate folder and file lists\n",
    "folder_list, file_list = dat.dir_interogate(path, extensions=exts)\n",
    "# create dictionary for indexing folders and files\n",
    "folder_index = dat.make_index_dict(folder_list)\n",
    "file_index = [dat.make_index_dict(file_sub_list) for file_sub_list in file_list]\n",
    "# lists of the data paths and metadata (text) paths\n",
    "data_path_list = dat.search_paths(folder_list, file_list, exts)\n",
    "metadata_path_list = dat.search_paths(folder_list, file_list, exts)\n",
    "# extract the relevant data from the files\n",
    "EIT_10MHz_sets = [dat.open_csv(os.path.join(path, data_path)) for data_path in data_path_list[folder_index['10MHz Scan']]]\n",
    "EIT_window_sets = [dat.open_csv(os.path.join(path, data_path)) for data_path in data_path_list[folder_index['EIT window']]]\n",
    "Other_sets = [dat.open_csv(os.path.join(path, data_path)) for data_path in data_path_list[folder_index['Other']]]"
   ]
  },
  {
   "cell_type": "code",
   "execution_count": null,
   "metadata": {},
   "outputs": [],
   "source": [
    "N = []\n",
    "for excel in EIT_10MHz_sets:\n",
    "    a, b = zoom(excel[:,di['time']], (-0.5, 0.5))\n",
    "    N.append(b-a)\n",
    "\n",
    "# convert timebase to frequency and find N points between scans\n",
    "v = 10E6 / 0.5\n",
    "frequency = [excel[:,di['time']] * v for excel in EIT_10MHz_sets]\n",
    "# smooth data and fidn peaks\n",
    "smoothed = [smooth_data(excel[:,di['scan']]) for excel in EIT_10MHz_sets]\n",
    "peaks = [peak_find(smooth, freq, top_tol=0.75, dist=n) for smooth, freq, n in zip(smoothed, frequency, N)]"
   ]
  },
  {
   "cell_type": "code",
   "execution_count": null,
   "metadata": {},
   "outputs": [],
   "source": [
    "# isolate the individual peaks and pad around these points for fitting to a single peak\n",
    "window_idx = []\n",
    "for peak_set, n in zip(peaks, N):\n",
    "    temp = []\n",
    "    for peak in peak_set:\n",
    "        start = int(peak - n/2)\n",
    "        stop = int(peak + n/2)\n",
    "        if start < 0:\n",
    "            start = 0\n",
    "        if stop > 1000000:\n",
    "            stop = -1\n",
    "        temp.append(np.array([start, stop]))\n",
    "    window_idx.append(temp)"
   ]
  },
  {
   "cell_type": "code",
   "execution_count": null,
   "metadata": {},
   "outputs": [],
   "source": [
    "# fit to the peaks in each plot\n",
    "index = 0\n",
    "l_fitted = []\n",
    "vp_fitted = []\n",
    "for freq, smooth, peak, indexes in zip(frequency, smoothed, peaks, window_idx):\n",
    "    l_temp = []\n",
    "    vp_temp = []\n",
    "    for place, idx in enumerate(indexes):\n",
    "        \n",
    "        top = smooth[peak[place]]\n",
    "        low = min(smooth[idx[0]:idx[1]])\n",
    "        mid = freq[peak[place]]\n",
    "        width = (freq[idx[1]]-freq[idx[0]])/2\n",
    "\n",
    "        try:\n",
    "            l_fit = fit_lorentz(freq[idx[0]:idx[1]], smooth[idx[0]:idx[1]], (top, low, mid, width))\n",
    "            vp_fit = fit_gls(freq[idx[0]:idx[1]], smooth[idx[0]:idx[1]], (low, top, mid, width, top, mid, width, 0.2))\n",
    "            l_temp.append(l_fit)\n",
    "            vp_temp.append(vp_fit)\n",
    "        except:\n",
    "            l_temp.append([])\n",
    "            vp_temp.append([])\n",
    "    l_fitted.append(l_temp)\n",
    "    vp_fitted.append(vp_temp)"
   ]
  },
  {
   "cell_type": "code",
   "execution_count": null,
   "metadata": {},
   "outputs": [],
   "source": [
    "# plot the fitted peaks in each dataset\n",
    "index = 0\n",
    "for freq, smooth, peak, indexes, vp_fit in zip(frequency, smoothed, peaks, window_idx, vp_fitted):\n",
    "    for idx, vp_params in zip(indexes, vp_fit):\n",
    "        fig, ax = mp.subplots()\n",
    "        ax.plot(freq[idx[0]:idx[1]], smooth[idx[0]:idx[1]])\n",
    "        try:\n",
    "            ax.plot(freq[idx[0]:idx[1]], pseudo_voigt(freq[idx[0]:idx[1]], *vp_params[0]), label='vp')\n",
    "        except:\n",
    "            print('fit fail')\n",
    "        ax.set_title(list(file_index[folder_index['10MHz Scan']])[index])\n",
    "        ax.set(xlabel='Frequency (MHz)')\n",
    "        ax.legend()\n",
    "    index += 1"
   ]
  },
  {
   "cell_type": "code",
   "execution_count": null,
   "metadata": {},
   "outputs": [],
   "source": [
    "# plot the fitted peaks in each dataset\n",
    "index = 0\n",
    "for freq, smooth, peak, indexes, l_fit in zip(frequency, smoothed, peaks, window_idx, l_fitted):\n",
    "    for idx, l_params in zip(indexes, l_fit):\n",
    "        fig, ax = mp.subplots()\n",
    "        ax.plot(freq[idx[0]:idx[1]], smooth[idx[0]:idx[1]], label='Data')\n",
    "        ax.set_title(list(file_index[folder_index['10MHz Scan']])[index])\n",
    "        ax.set(xlabel='Frequency (MHz)')\n",
    "        try:\n",
    "            ax.plot(freq[idx[0]:idx[1]], lorentzian(freq[idx[0]:idx[1]], *l_params[0]), label='lorentz fit')\n",
    "        except:\n",
    "            print('fit_fail')\n",
    "        ax.legend()\n",
    "    index += 1"
   ]
  },
  {
   "cell_type": "code",
   "execution_count": null,
   "metadata": {},
   "outputs": [],
   "source": [
    "delta = []\n",
    "for fitted_l in l_fitted:\n",
    "    temp = []\n",
    "    for fit in fitted_l:\n",
    "        try:\n",
    "            temp.append(fit[0][-1])\n",
    "        except:\n",
    "            print(fit)\n",
    "    delta.append(temp)"
   ]
  },
  {
   "cell_type": "code",
   "execution_count": null,
   "metadata": {},
   "outputs": [],
   "source": [
    "delta[8]"
   ]
  },
  {
   "cell_type": "code",
   "execution_count": null,
   "metadata": {},
   "outputs": [],
   "source": [
    "sum(np.abs(delta[8]))/len(delta[8])"
   ]
  },
  {
   "cell_type": "code",
   "execution_count": null,
   "metadata": {},
   "outputs": [],
   "source": [
    "probe = ['20$\\mu$W', '10$\\mu$W']\n",
    "icon = ['o', 's']\n",
    "pump = [[1.1, 2, 4, 3], [1, 2.6, 3.8, 1.5]]\n",
    "nu = [[2.847351802976671, 2.1776510211506896, 3.546161795820066, 5.104464412528882],[4.3466396406829655, 1.350920823693339, 5.975702449483515, 2.8199495561250704]]"
   ]
  },
  {
   "cell_type": "code",
   "execution_count": null,
   "metadata": {},
   "outputs": [],
   "source": [
    "fig, ax = mp.subplots()\n",
    "for index, label in enumerate(probe):\n",
    "    ax.plot(pump[index], nu[index], marker=icon[index], fillstyle='none', linestyle='none', label=label)\n",
    "    ax.set(xlabel='Pump Power (mW)', ylabel='FHWM (MHz)')\n",
    "    ax.legend(frameon=True)\n"
   ]
  }
 ],
 "metadata": {
  "kernelspec": {
   "display_name": ".spec_venv",
   "language": "python",
   "name": "python3"
  },
  "language_info": {
   "codemirror_mode": {
    "name": "ipython",
    "version": 3
   },
   "file_extension": ".py",
   "mimetype": "text/x-python",
   "name": "python",
   "nbconvert_exporter": "python",
   "pygments_lexer": "ipython3",
   "version": "3.11.1"
  }
 },
 "nbformat": 4,
 "nbformat_minor": 2
}
