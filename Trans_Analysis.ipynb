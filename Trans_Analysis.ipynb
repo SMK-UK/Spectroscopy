{
 "cells": [
  {
   "attachments": {},
   "cell_type": "markdown",
   "metadata": {},
   "source": [
    "\n",
    "### Spectroscopic Data Analysis  \n",
    "\n",
    "        Sean Keenan, PhD Physics  \n",
    "        Quantum Memories Group, Heriot-Watt University, Edinburgh  \n",
    "        2021  "
   ]
  },
  {
   "cell_type": "code",
   "execution_count": null,
   "metadata": {},
   "outputs": [],
   "source": [
    "%matplotlib widget\n",
    "import spec_funcs as sf\n",
    "import fit_funcs as ff\n",
    "import numpy as np\n",
    "import matplotlib.pyplot as mp\n",
    "import os\n",
    "\n",
    "mp.style.use('signature.mplstyle')"
   ]
  },
  {
   "attachments": {},
   "cell_type": "markdown",
   "metadata": {},
   "source": [
    "\n",
    "##### Set-up script  \n",
    "\n",
    "        Select input folder and polarisation  "
   ]
  },
  {
   "cell_type": "code",
   "execution_count": null,
   "metadata": {},
   "outputs": [],
   "source": [
    "# folder containing all the requisite subfolders and data - refrences included\n",
    "path = r\"C:\\Users\\sk88\\Desktop\\0222_BB\"\n",
    "# mark energies / wavelengths of interest\n",
    "sigma_woi = [595.24]\n",
    "pi_woi = [604.23, 605.36]\n",
    "woi = sigma_woi + pi_woi\n",
    "# calibrate wavelength of OSA\n",
    "calibration = 1.054269203603\n",
    "# reference power correction\n",
    "correction = 150/50\n",
    "# reference names\n",
    "refs = (\"ref\", \"reference\", \"R\")\n",
    "# file extension types\n",
    "exts = ('.csv', '.txt', '.CSV')\n",
    "exceptions = (\"notes\", \"setup\", \"ignore\", \"Thermal OD\")\n",
    "labels = 'wavelength (nm)', 'OD'"
   ]
  },
  {
   "attachments": {},
   "cell_type": "markdown",
   "metadata": {},
   "source": [
    "\n",
    "##### Import Raw Spectroscopy Data\n",
    "        Load raw data from csv file (delimiter is not a problem) and sort into groups - polarisations -> reference / spectrum\n"
   ]
  },
  {
   "cell_type": "code",
   "execution_count": null,
   "metadata": {},
   "outputs": [],
   "source": [
    "folder_list, file_list = sf.dir_interogate(path, exts, exceptions)\n",
    "path_names = sf.read_files(folder_list, file_list)\n",
    "ref_names, data_names = sf.search_paths(path_names, refs)\n",
    "polarisations = sf.find_numbers(ref_names, tail=1)\n",
    "ref_paths = [os.path.join(path, x) for x in ref_names]\n",
    "data_paths = [os.path.join(path, x) for x in data_names]\n",
    "ref_data, ref_metadata = sf.data_extract(ref_paths, polarisations)\n",
    "data_sets, metadata_sets = sf.data_extract(data_paths, polarisations)\n",
    "wave_sets, od_sets = sf.OD_calc(ref_data, data_sets, correction=True, c_factor=correction)\n",
    "shifted_sets = sf.data_shift(wave_sets, calibration)"
   ]
  },
  {
   "attachments": {},
   "cell_type": "markdown",
   "metadata": {},
   "source": [
    "\n",
    "##### Main calculations\n",
    "\n",
    "        Correct OD for background\n",
    "        Create two data sets - corrected and subtracted "
   ]
  },
  {
   "cell_type": "code",
   "execution_count": null,
   "metadata": {},
   "outputs": [],
   "source": [
    "backgrounds = [[sf.bin_data(od) for od in od_set] for od_set in od_sets]\n",
    "od_corrected = [[[x - mean_value for x in od] for od, mean_value in zip(od_set, background)] for od_set, background in zip(od_sets, backgrounds)]\n",
    "od_ground = [od_corrected[i][0] for i in range(len(od_corrected))]\n",
    "od_subtracted = [[[x-y for x, y in zip(excited, ground)] for excited in od_corrected[i]] for i, ground in enumerate(od_ground)]\n",
    "minimums = [[min(od_sub) for od_sub in od_sub_set] for od_sub_set in od_subtracted]\n",
    "od_subtracted =  [[[x - minimum for x in od_sub] for od_sub, minimum in zip(od_sub_set, minimum)] for od_sub_set, minimum in zip(od_subtracted, minimums)]"
   ]
  },
  {
   "attachments": {},
   "cell_type": "markdown",
   "metadata": {},
   "source": [
    "\n",
    "##### Find Peaks and Energies\n",
    "\n",
    "        Calculate frequencies, wavenumbers and wavelengths of peaks"
   ]
  },
  {
   "cell_type": "code",
   "execution_count": null,
   "metadata": {},
   "outputs": [],
   "source": [
    "corrected_peaks = sf.peak_find(shifted_sets, od_corrected, prom_tol=None, top_tol=0.1, lims=None)\n",
    "sub_peaks = sf.peak_find(shifted_sets, od_subtracted, prom_tol=None, top_tol=0.01, lims=None)\n",
    "od_frequencies = sf.peak_freq(od_corrected, shifted_sets, lims=[490, 510])\n",
    "od_wavenumbers = [[[sf.converter(frequency, d_type=1, c_type=0) for frequency in frequency_set] for frequency_set in frequency_list] for frequency_list in od_frequencies]\n",
    "od_wavelengths = [[[sf.converter(frequency, d_type=1, c_type=2) for frequency in frequency_set] for frequency_set in frequency_list] for frequency_list in od_frequencies]\n",
    "sub_frequencies = sf.peak_freq(sub_peaks, wave_sets, lims=[490, 510])\n",
    "sub_wavenumbers = [[[sf.converter(frequency, d_type=1, c_type=0) for frequency in frequency_set] for frequency_set in frequency_list] for frequency_list in sub_frequencies]\n",
    "sub_wavelengths = [[[sf.converter(frequency, d_type=1, c_type=2) for frequency in frequency_set] for frequency_set in frequency_list] for frequency_list in sub_frequencies]"
   ]
  },
  {
   "cell_type": "code",
   "execution_count": null,
   "metadata": {},
   "outputs": [],
   "source": [
    "sf.plotter(shifted_sets, od_subtracted, keys=polarisations, axis_lbls=labels, shifter=0.1, lims=(), woi=(), save=False, data_labels=folder_list)"
   ]
  },
  {
   "cell_type": "code",
   "execution_count": null,
   "metadata": {},
   "outputs": [],
   "source": [
    "sf.plotter(shifted_sets, od_corrected, keys=polarisations, axis_lbls=labels, lims=(570, 625), shifter=0.2, woi=None, save=False, data_labels=folder_list)"
   ]
  },
  {
   "cell_type": "code",
   "execution_count": null,
   "metadata": {},
   "outputs": [],
   "source": [
    "from scipy.signal import find_peaks, argrelmax, argrelmin\n",
    "\n",
    "low, high = sf.zoom(shifted_sets[0][2], (603, 610))\n",
    "test_x = np.array(shifted_sets[0][2])\n",
    "test_y = np.array(od_subtracted[0][2])\n",
    "grad_y = np.gradient(test_y)\n",
    "grad_2y = np.gradient(grad_y)\n",
    "a = argrelmax(test_y)\n",
    "b = a[0].tolist()\n",
    "c = [x for x in b if x >= low and x <= high]\n",
    "fig, ax = mp.subplots()\n",
    "ax.plot(test_x[low:high], test_y[low:high], 'r')\n",
    "ax.plot(test_x[c], test_y[c], 'xr')\n",
    "ax.plot(test_x[low:high], grad_y[low:high], '--b')\n",
    "ax.plot(test_x[c], grad_y[c], 'xb')\n",
    "ax.plot(test_x[low:high], grad_2y[low:high], '--g')\n",
    "ax.plot(test_x[c], grad_2y[c], 'xg')\n",
    "\n",
    "#fit, err = ff.fitNguass()"
   ]
  },
  {
   "cell_type": "code",
   "execution_count": null,
   "metadata": {},
   "outputs": [],
   "source": [
    "low_128, high_128 = sf.zoom(shifted_sets[0][0], bounds=(605, 620))\n",
    "low_173, high_173 = sf.zoom(shifted_sets[0][0], bounds=(596, 610))\n",
    "peak_sub_128 = [[sf.find_OD(y_values=od, peaks=peaks, lims=(low_128, high_128)) for od, peaks in zip(od_set, peak_set)] for od_set, peak_set in zip(od_subtracted, sub_peaks)]\n",
    "peak_sub_173 = [[sf.find_OD(y_values=od, peaks=peaks, lims=(low_173, high_173)) for od, peaks in zip(od_set, peak_set)] for od_set, peak_set in zip(od_subtracted, sub_peaks)]"
   ]
  },
  {
   "cell_type": "code",
   "execution_count": null,
   "metadata": {},
   "outputs": [],
   "source": [
    "low_128, high_128 = sf.zoom(shifted_sets[0][0], bounds=(603, 607))\n",
    "low_173, high_173 = sf.zoom(shifted_sets[0][0], bounds=(594, 597))\n",
    "peak_cor_128 = [[sf.find_OD(y_values=od, peaks=peaks, lims=(low_128, high_128)) for od, peaks in zip(od_set, peak_set)] for od_set, peak_set in zip(od_corrected, corrected_peaks)]\n",
    "peak_cor_173 = [[sf.find_OD(y_values=od, peaks=peaks, lims=(low_173, high_173)) for od, peaks in zip(od_set, peak_set)] for od_set, peak_set in zip(od_corrected, corrected_peaks)]"
   ]
  },
  {
   "cell_type": "code",
   "execution_count": null,
   "metadata": {},
   "outputs": [],
   "source": [
    "peak_0 = [value for values in peak_cor_128[0] for value in values]\n",
    "od_frequencies123 = sf.peak_freq(corrected_peaks, shifted_sets, lims=[603,607])\n",
    "freq_0 = [frequency for frequencies in od_frequencies123[0] for frequency in frequencies]\n",
    "wavenumber_0 = [sf.converter(freq, 1, 0) for freq in freq_0]\n",
    "print(wavenumber_0)\n",
    "\n",
    "temp_0 = [3.2, 10, 20, 30, 40, 60, 80, 100, 120, 140, 160, 180, 200, 220, 240, 260, 280]\n",
    "fig_1, ax_1 = mp.subplots()\n",
    "ax_1.set_title('$\\sigma$ polarisation at 16529.87 - 16520.30 cm$^{-1}$')\n",
    "ax_1.set(xlabel='Temperature', ylabel='OD')\n",
    "ax_1.plot(temp_0, peak_0, 'x')"
   ]
  },
  {
   "cell_type": "code",
   "execution_count": null,
   "metadata": {},
   "outputs": [],
   "source": [
    "peak_2 = [peak_sub_128[0][i][0] for i in range(len(peak_sub_128[0])) if i != 0]\n",
    "sub_frequencies = sf.peak_freq(sub_peaks, shifted_sets, lims=[607,620])\n",
    "freq_2 = [sub_frequencies[0][i][0] for i in range(len(sub_frequencies[0])) if i != 0]\n",
    "wavenumber_2 = [sf.converter(freq, d_type=1, c_type=0) for freq in freq_2]\n",
    "print(wavenumber_2)\n",
    "\n",
    "temp_2 = [60, 80, 100, 120, 140, 160, 180, 200, 220, 240, 260, 280]\n",
    "peak_2.pop(0)\n",
    "peak_2.pop(1)\n",
    "peak_2.pop(2)\n",
    "peak_2.pop(3)\n",
    "fig_1, ax_1 = mp.subplots()\n",
    "ax_1.set_title('$\\sigma$ polarisation at 16472.69 cm$^{-1}$')\n",
    "ax_1.set_xticks(temp_2)\n",
    "ax_1.set(xlabel='Temperature', ylabel='OD')\n",
    "ax_1.plot(temp_2, peak_2, 'x')"
   ]
  },
  {
   "cell_type": "code",
   "execution_count": null,
   "metadata": {},
   "outputs": [],
   "source": [
    "peak_3 = [peak_sub_128[0][i][-2] for i in range(len(peak_sub_128[0])) if i != 0]\n",
    "sub_frequencies = sf.peak_freq(sub_peaks,shifted_sets, lims=[605,620])\n",
    "freq_3 = [sub_frequencies[0][i][-2] for i in range(len(sub_frequencies[0])) if i != 0]\n",
    "wavenumber_3 = [sf.converter(freq, d_type=1, c_type=0) for freq in freq_3]\n",
    "print(wavenumber_3)\n",
    "temp_3 = [10, 20, 30, 40, 140, 160, 180, 200, 220, 240, 260, 280]\n",
    "peak_3.pop(0)\n",
    "peak_3.pop(4)\n",
    "peak_3.pop(5)\n",
    "peak_3.pop(6)\n",
    "peak_3.pop(7)\n",
    "peak_3.insert(0, peak_sub_128[0][1][-3])\n",
    "fig_2, ax_2 = mp.subplots()\n",
    "ax_2.set_title('$\\sigma$ polarisation at 16378.12 cm$^{-1}$')\n",
    "ax_2.set(xlabel='Temperature', ylabel='OD')\n",
    "ax_2.set_xticks(temp_3)\n",
    "ax_2.plot(temp_3, peak_3, 'x')"
   ]
  },
  {
   "cell_type": "code",
   "execution_count": null,
   "metadata": {},
   "outputs": [],
   "source": [
    "peak_4 = [peak_sub_128[0][i][-1] for i in range(len(peak_sub_128[0])) if i != 0]\n",
    "sub_frequencies = sf.peak_freq(sub_peaks, shifted_sets, lims=[605,620])\n",
    "freq_4 = [sub_frequencies[0][i][-1] for i in range(len(sub_frequencies[0])) if i != 0]\n",
    "wavenumber_4 = [sf.converter(freq, d_type=1, c_type=0) for freq in freq_4]\n",
    "print(wavenumber_4)\n",
    "temp_4 = [10, 20, 30, 40, 60, 80, 100, 120, 140, 160, 180, 200, 220, 240, 260, 280]\n",
    "fig_3, ax_3 = mp.subplots()\n",
    "ax_3.set_title('$\\sigma$ polarisation at 16174.57 cm$^{-1}$')\n",
    "ax_3.set(xlabel='Temperature', ylabel='OD')\n",
    "ax_3.set_xticks(temp_4)\n",
    "ax_3.plot(temp_4, peak_4, 'x')"
   ]
  },
  {
   "cell_type": "code",
   "execution_count": null,
   "metadata": {},
   "outputs": [],
   "source": [
    "peak173_0 = [value for values in peak_cor_173[3] for value in values]\n",
    "od_frequencies173 = sf.peak_freq(corrected_peaks, shifted_sets, lims=[590,598])\n",
    "freq173_0 = [frequency for frequencies in od_frequencies173[3] for frequency in frequencies]\n",
    "wavenumber173_0 = [sf.converter(freq, 1, 0) for freq in freq173_0]\n",
    "print(wavenumber173_0)\n",
    "\n",
    "temp173_0 = [3.2, 10, 20, 30, 40, 60, 80, 100, 120, 140, 160, 180, 200, 220, 240]\n",
    "fig_0, ax_0 = mp.subplots()\n",
    "ax_0.set_title('$\\pi$ polarisation at 16812.82 - 16773.16 cm$^{-1}$')\n",
    "ax_0.set(xlabel='Temperature', ylabel='OD')\n",
    "ax_0.plot(temp173_0, peak173_0, 'xr')"
   ]
  },
  {
   "cell_type": "code",
   "execution_count": null,
   "metadata": {},
   "outputs": [],
   "source": [
    "peak173_2 = [peak_sub_173[3][i][0] for i in range(len(peak_sub_173[0])) if i != 0]\n",
    "sub_frequencies = sf.peak_freq(sub_peaks, shifted_sets, lims=[597,610])\n",
    "freq173_2 = [sub_frequencies[3][i][0] for i in range(len(sub_frequencies[3])) if i != 0]\n",
    "wavenumber173_2 = [sf.converter(freq, d_type=1, c_type=0) for freq in freq173_2]\n",
    "print(wavenumber173_2)\n",
    "peak173_2.pop(0)\n",
    "peak173_2.pop(1)\n",
    "temp173_2 = [30, 40, 60, 80, 100, 120, 140, 160, 180, 200, 220, 240, 260, 280]\n",
    "\n",
    "fig_4, ax_4 = mp.subplots()\n",
    "ax_4.set_title('$\\pi$ polarisation at 16704.25 cm$^{-1}$')\n",
    "ax_4.set(xlabel='Temperature', ylabel='OD')\n",
    "ax_4.set_xticks(temp173_2)\n",
    "ax_4.plot(temp173_2, peak173_2, 'xr')\n"
   ]
  },
  {
   "cell_type": "code",
   "execution_count": null,
   "metadata": {},
   "outputs": [],
   "source": [
    "peak173_3 = [peak_sub_173[3][i][1] for i in range(len(peak_sub_173[0])) if i != 0]\n",
    "sub_frequencies = sf.peak_freq(sub_peaks, shifted_sets, lims=[597,610])\n",
    "freq173_3 = [sub_frequencies[3][i][1] for i in range(len(sub_frequencies[3])) if i != 0]\n",
    "wavenumber173_3 = [sf.converter(freq, d_type=1, c_type=0) for freq in freq173_3]\n",
    "print(wavenumber173_3)\n",
    "peak173_3.pop(0)\n",
    "peak173_3.pop(1)\n",
    "peak173_3.pop(2)\n",
    "peak173_3.pop(3)\n",
    "temp173_3 = [60, 80, 100, 120, 140, 160, 180, 200, 220, 240, 260, 280]\n",
    "\n",
    "fig_5, ax_5 = mp.subplots()\n",
    "ax_5.set_title('$\\pi$ polarisation at 16606.87 cm$^{-1}$')\n",
    "ax_5.set(xlabel='Temperature', ylabel='OD')\n",
    "ax_5.set_xticks(temp173_3)\n",
    "ax_5.plot(temp173_3, peak173_3, 'xr')"
   ]
  },
  {
   "cell_type": "code",
   "execution_count": null,
   "metadata": {},
   "outputs": [],
   "source": [
    "peak173_4 = [peak_sub_173[3][i][-1] for i in range(len(peak_sub_173[0])) if i != 0]\n",
    "sub_frequencies = sf.peak_freq(sub_peaks, shifted_sets, lims=[597,610])\n",
    "freq173_4 = [sub_frequencies[3][i][-1] for i in range(len(sub_frequencies[0])) if i != 0]\n",
    "wavenumber173_4 = [sf.converter(freq, d_type=1, c_type=0) for freq in freq173_4]\n",
    "print(wavenumber173_3)\n",
    "peak173_4.pop(0)\n",
    "\n",
    "temp173_4 = [20, 30, 40, 60, 80, 100, 120, 140, 160, 180, 200, 220, 240, 260, 280]\n",
    "\n",
    "fig_6, ax_6 = mp.subplots()\n",
    "ax_6.set_title('$\\pi$ polarisation at 16444.17 cm$^{-1}$')\n",
    "ax_6.set(xlabel='Temperature', ylabel='OD')\n",
    "ax_6.set_xticks(temp173_4)\n",
    "ax_6.plot(temp173_4, peak173_4, 'xr')"
   ]
  },
  {
   "attachments": {},
   "cell_type": "markdown",
   "metadata": {},
   "source": [
    "3P0 "
   ]
  },
  {
   "cell_type": "code",
   "execution_count": null,
   "metadata": {},
   "outputs": [],
   "source": [
    "import matplotlib.pyplot as mp\n",
    "temp = [3.2, 10, 20, 30, 40, 50, 60, 80, 100, 120, 140, 160, 180, 200, 220, 240, 260, 280]\n",
    "count = -1\n",
    "\n",
    "fig_1, ax_1 = mp.subplots()\n",
    "fig_2, ax_2 = mp.subplots()\n",
    "fig_3, ax_3 = mp.subplots()\n",
    "\n",
    "ax_1.set(xlabel='Temperature', ylabel='OD')\n",
    "ax_2.set(xlabel='Temperature', ylabel='OD')\n",
    "ax_3.set(xlabel='Temperature', ylabel='OD')\n",
    "\n",
    "for index_1, OD_list in enumerate(peak_sub_128[0]):\n",
    "    for index_2, value in enumerate(OD_list):\n",
    "        if index_2 == 0:\n",
    "            ax_1.plot(temp[index_1], value, 'xb')\n",
    "        if index_1 > 9 and index_2 == 1:\n",
    "            ax_2.plot(temp[index_1], value, 'xr')\n",
    "        if index_2 == 2 or index_1 < 10 and index_2 == 2:\n",
    "            ax_3.plot(temp[index_1], value, 'xg')\n"
   ]
  },
  {
   "cell_type": "code",
   "execution_count": null,
   "metadata": {},
   "outputs": [],
   "source": [
    "import matplotlib.pyplot as mp\n",
    "temp = [3.2, 10, 20, 30, 40, 50, 60, 80, 100, 120, 140, 160, 180, 200, 220, 240, 260, 280]\n",
    "\n",
    "fig_1, ax_1 = mp.subplots()\n",
    "fig_2, ax_2 = mp.subplots()\n",
    "fig_3, ax_3 = mp.subplots()\n",
    "\n",
    "ax_1.set(xlabel='Temperature', ylabel='OD')\n",
    "ax_2.set(xlabel='Temperature', ylabel='OD')\n",
    "ax_3.set(xlabel='Temperature', ylabel='OD')\n",
    "\n",
    "for index_1, OD_list in enumerate(peak_OD_173[3]):\n",
    "    for index_2, value in enumerate(OD_list):\n",
    "        if index_2 == 0:\n",
    "            ax_1.plot(temp[index_1], value, 'xb')\n",
    "        if index_2 == 1:\n",
    "            ax_2.plot(temp[index_1], value, 'xr')\n",
    "        if index_2 == 2:\n",
    "            ax_3.plot(temp[index_1], value, 'xg')\n"
   ]
  },
  {
   "cell_type": "code",
   "execution_count": null,
   "metadata": {},
   "outputs": [],
   "source": [
    "import fit_funcs as ff\n",
    "import numpy as np\n",
    "import matplotlib.pyplot as mp\n",
    "from scipy.optimize import leastsq\n",
    "\n",
    "x = np.linspace(0, 100, 100)\n",
    "param_1 = [1, 5, 80, 8]\n",
    "param_2 = [1, 0, 20, 5]\n",
    "param_3 = [1, -2, 60, 5]\n",
    "param_4 = [2, 0, 30, 10]\n",
    "\n",
    "fit_param_1 = [1, 5, 70, 20]\n",
    "fit_param_2 = [1, 0, 20, 20]\n",
    "fit_param_3 = [1, -2, 60, 10]\n",
    "fit_param_4 = [1, 0, 20, 20]\n",
    "param = param_1 + param_2 + param_3 + param_4\n",
    "fit_param = fit_param_1 + fit_param_2 + fit_param_3 + fit_param_4\n",
    "y = ff.N_gaussian(x, *param)\n",
    "\n",
    "fit, err = ff.fitNgauss(x, y, params=fit_param)\n",
    "\n",
    "mp.plot(x, y)\n",
    "mp.plot(x, ff.N_gaussian(x, *fit), 'x')\n",
    "mp.show()"
   ]
  }
 ],
 "metadata": {
  "kernelspec": {
   "display_name": ".spect_venv",
   "language": "python",
   "name": "python3"
  },
  "language_info": {
   "codemirror_mode": {
    "name": "ipython",
    "version": 3
   },
   "file_extension": ".py",
   "mimetype": "text/x-python",
   "name": "python",
   "nbconvert_exporter": "python",
   "pygments_lexer": "ipython3",
   "version": "3.11.2"
  },
  "orig_nbformat": 4,
  "vscode": {
   "interpreter": {
    "hash": "591e98aa5fd0eb4730f19f661e8a5c2fdbba266681562ca5e4ef59abda230351"
   }
  }
 },
 "nbformat": 4,
 "nbformat_minor": 2
}
