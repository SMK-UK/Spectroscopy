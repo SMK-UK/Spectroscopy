{
 "cells": [
  {
   "cell_type": "markdown",
   "metadata": {},
   "source": [
    "\n",
    "### Spectroscopic Data Analysis  \n",
    "\n",
    "        Sean Keenan, PhD Physics  \n",
    "        Quantum Memories Group, Heriot-Watt University, Edinburgh  \n",
    "        2024  "
   ]
  },
  {
   "cell_type": "code",
   "execution_count": null,
   "metadata": {},
   "outputs": [],
   "source": [
    "import sys\n",
    "# Add the parent directory to the system path\n",
    "sys.path.insert(1, r\"C:\\Users\\keena\\Documents\\University\\python_scripts\")\n",
    "\n",
    "from Function_files.addresses import Init_Directories\n",
    "\n",
    "import Function_files.data_functions as dat\n",
    "from Function_files.math_functions import corrected_pulse_area\n",
    "from Function_files.plotting_functions import plot_scope\n",
    "from Spectroscopy import spec_config as config_file\n",
    "import os"
   ]
  },
  {
   "cell_type": "code",
   "execution_count": null,
   "metadata": {},
   "outputs": [],
   "source": [
    "# import config file dictionary\n",
    "config = config_file.config_params\n",
    "dir = os.path.join(config['root'], config['file'])\n",
    "# get indexes for data channels in the excel files\n",
    "di = config['data_indexes']\n",
    "# make labels from data indexes\n",
    "labels = {key:di[key] for key in di.keys() if key != 'time'}"
   ]
  },
  {
   "cell_type": "code",
   "execution_count": null,
   "metadata": {},
   "outputs": [],
   "source": [
    "# interogate directory to extract folder and file names\n",
    "folder_list, file_list = dat.dir_interogate(path=dir, extensions=config['extensions'], exceptions=config['exceptions'])\n",
    "# create dictionary for indexing folders and files\n",
    "fol_i = dat.make_index_dict(folder_list)\n",
    "fil_i = [dat.make_index_dict(file_sub_list) for file_sub_list in file_list]\n",
    "# assemble reference paths\n",
    "ref_paths = dat.search_paths(folder_list, file_list, include=config['refs'])\n",
    "ref_path_list = [os.path.join(dir, x) for x in ref_paths]\n",
    "# assemble spectra paths\n",
    "spectra_paths = dat.search_paths(folder_list, file_list, include=config['refs'])\n",
    "spectra_path_list = [os.path.join(dir, x) for x in ref_paths]\n",
    "# find polarisation numbers from reference file names\n",
    "polarisations = [dat.find_numbers(os.path.split(path)[1], '\\d+')[0] for path in ref_paths]\n",
    "# extract data from the folders\n",
    "ref_metadata, ref_data = dat.spectrum_extract(ref_path_list, keys=polarisations)\n",
    "spectra_metadata, spectra_data = dat.spectrum_extract(spectra_path_list, keys=polarisations)\n",
    "spectra_waves, spectra_intensities = dat.seperate_lists(spectra_data)\n",
    "reference_waves, reference_intensities = dat.seperate_lists(ref_data)"
   ]
  }
 ],
 "metadata": {
  "language_info": {
   "name": "python"
  }
 },
 "nbformat": 4,
 "nbformat_minor": 2
}
