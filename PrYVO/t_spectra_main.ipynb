{
 "cells": [
  {
   "cell_type": "markdown",
   "metadata": {},
   "source": [
    "\n",
    "### Spectroscopic Data Analysis  \n",
    "\n",
    "        Sean Keenan, PhD Physics  \n",
    "        Quantum Memories Group, Heriot-Watt University, Edinburgh  \n",
    "        2024  "
   ]
  },
  {
   "cell_type": "code",
   "execution_count": 1,
   "metadata": {},
   "outputs": [],
   "source": [
    "import sys\n",
    "# Add the parent directory to the system path\n",
    "sys.path.insert(1, r\"C:\\Users\\keena\\Documents\\vscode\")\n",
    "\n",
    "import Function_files.data_functions as dat\n",
    "from Function_files.filter_functions import smooth_data\n",
    "from Function_files.math_functions import bin_data, OD_calc\n",
    "from Function_files.plotting_class import Plotter\n",
    "import Spectroscopy.PrYVO.config_files._3F3 as config_file\n",
    "\n",
    "import os\n",
    "plt = Plotter()"
   ]
  },
  {
   "cell_type": "code",
   "execution_count": 2,
   "metadata": {},
   "outputs": [],
   "source": [
    "# import config file dictionary\n",
    "dir = config_file.root + config_file.file\n",
    "# interogate directory to extract folder and file names\n",
    "folder_list, file_list = dat.dir_interrogate(path=dir, extensions=config_file.extensions, exceptions=config_file.exceptions)\n",
    "# create dictionary for indexing folders and files\n",
    "fol_i = dat.make_index_dict(folder_list)\n",
    "fil_i = [dat.make_index_dict(file_sub_list) for file_sub_list in file_list]\n",
    "# assemble reference paths\n",
    "ref_paths = dat.search_paths(folder_list, file_list, include=config_file.refs)\n",
    "ref_path_list = [os.path.join(dir, x) for x in ref_paths]\n",
    "# assemble spectra paths\n",
    "spectra_paths = dat.search_paths(folder_list, file_list, exclude=config_file.refs)\n",
    "spectra_paths_list = [os.path.join(dir, x) for spectra_lists in spectra_paths for x in spectra_lists]\n",
    "# extract data from the folders\n",
    "ref_metadata, ref_data = dat.spectrum_extract(ref_path_list, keys=config_file.polarisations)\n",
    "spectra_metadata, spectra_data = dat.spectrum_extract(spectra_paths_list, keys=config_file.polarisations)\n",
    "spectra_waves, spectra_intensities = dat.separate_lists(spectra_data) \n",
    "reference_waves, reference_intensities = dat.separate_lists(ref_data)"
   ]
  },
  {
   "cell_type": "code",
   "execution_count": 3,
   "metadata": {},
   "outputs": [],
   "source": [
    "# calculate OD and correct for power variance\n",
    "OD_sets = [[OD_calc(ref_data=ref[0], trans_data=spectra, c_factor=config_file.correction) for spectra in spectra_set] for ref, spectra_set in zip(reference_intensities, spectra_intensities)]\n",
    "# subtract mean value to compensate for background\n",
    "zeroed_OD = [[values - bin_data(values, 100) for values in spectra] for spectra in OD_sets]\n",
    "# create subtracted set (minus lowest temp data)\n",
    "subtracted_OD = [[values - spectra[0] for values in spectra] for spectra in zeroed_OD]\n",
    "# create smoothed sets using boxcar\n",
    "smoothed = [[smooth_data(values, N=10) for values in spectra] for spectra in zeroed_OD]\n",
    "# calibrate for OSA and convert wavelengths to wavenumbers \n",
    "shifted_waves = [[values + config_file.calibration for values in wavelengths] for wavelengths in spectra_waves]\n",
    "wavevector_sets = [[1E7 / values for values in wavelengths] for wavelengths in shifted_waves]"
   ]
  },
  {
   "cell_type": "code",
   "execution_count": null,
   "metadata": {},
   "outputs": [],
   "source": [
    "plt.x_label = 'Wavenumber cm$^{-1}$'\n",
    "plt.y_label = 'OD'\n",
    "plt.save = True\n",
    "plt.folder = \"Documents/vscode/Spectroscopy/PrYVO/Plots/3F3/\"\n",
    "plt.format = 'svg'\n",
    "\n",
    "for index, polarisation in enumerate(config_file.polarisations):\n",
    "    plt.fname = polarisation\n",
    "    plt.plot_spectra(x_data=wavevector_sets[index], y_data=OD_sets[index], lims=[6600, 5950], shifter=1, data_labels=folder_list)"
   ]
  }
 ],
 "metadata": {
  "kernelspec": {
   "display_name": ".spectroscopy",
   "language": "python",
   "name": "python3"
  },
  "language_info": {
   "codemirror_mode": {
    "name": "ipython",
    "version": 3
   },
   "file_extension": ".py",
   "mimetype": "text/x-python",
   "name": "python",
   "nbconvert_exporter": "python",
   "pygments_lexer": "ipython3",
   "version": "3.13.1"
  }
 },
 "nbformat": 4,
 "nbformat_minor": 2
}
